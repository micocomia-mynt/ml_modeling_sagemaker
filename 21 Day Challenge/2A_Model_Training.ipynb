{
 "cells": [
  {
   "cell_type": "markdown",
   "id": "strategic-maldives",
   "metadata": {},
   "source": [
    "### Training a Model Locally - A\n",
    "Mico Ellerich M. Comia\n",
    "\n",
    "This notebook trains Sklearn's Logistic Regression model to predict a binary output given a multi-dimensional input. No hyperparameter optimizations were applied and as such, the default values were used as is.\n",
    "\n",
    "---\n",
    "\n",
    "- SELECT 2 MACHINE LEARNING ALGORITHMS \n",
    "- FOR EACH OF THE ALGORITHMS\n",
    "    - PERFORM TRAINING ON THE TRAINING DATASET\n",
    "    - EVALUATE ON THE VALIDATION DATASET\n",
    "    - TEST THE TRAINED MODEL ON THE TEST SET\n",
    "    - SAVE THE MODEL USING JOBLIB (OR ALTERNATIVE)\n",
    "- COMPARE THE “PERFORMANCE” OF THE 2 MODELS USING THE EVALUATION METRICS\n",
    "\n",
    "---"
   ]
  },
  {
   "cell_type": "code",
   "execution_count": 1,
   "id": "linear-cream",
   "metadata": {},
   "outputs": [],
   "source": [
    "import numpy as np\n",
    "import pandas as pd\n",
    "import matplotlib.pyplot as plt\n",
    "import sklearn\n",
    "import warnings\n",
    "import joblib\n",
    "import time\n",
    "\n",
    "from sklearn import metrics\n",
    "from sklearn.linear_model import LogisticRegression"
   ]
  },
  {
   "cell_type": "code",
   "execution_count": 2,
   "id": "lesbian-albany",
   "metadata": {},
   "outputs": [],
   "source": [
    "pd.options.display.float_format = '{:,.2f}'.format\n",
    "warnings.filterwarnings(action=\"ignore\")"
   ]
  },
  {
   "cell_type": "markdown",
   "id": "commercial-brook",
   "metadata": {},
   "source": [
    "### I. Import dataset splits\n",
    "---"
   ]
  },
  {
   "cell_type": "markdown",
   "id": "collected-special",
   "metadata": {},
   "source": [
    "First, we import the generated synthetic dataset from the previous notebook using Pandas' read_csv. This imports the CSV files as dataframes."
   ]
  },
  {
   "cell_type": "code",
   "execution_count": 3,
   "id": "industrial-living",
   "metadata": {},
   "outputs": [],
   "source": [
    "X_train =  pd.read_csv('data/X_train.csv')\n",
    "X_test =  pd.read_csv('data/X_test.csv') \n",
    "X_val = pd.read_csv('data/X_val.csv') \n",
    "y_train =  pd.read_csv('data/y_train.csv') \n",
    "y_test =  pd.read_csv('data/y_test.csv') \n",
    "y_val = pd.read_csv('data/y_val.csv') "
   ]
  },
  {
   "cell_type": "markdown",
   "id": "convenient-corps",
   "metadata": {},
   "source": [
    "### II. Training the Logistic Regression model\n",
    "---"
   ]
  },
  {
   "cell_type": "markdown",
   "id": "owned-physiology",
   "metadata": {},
   "source": [
    "#### A. Training using the training dataset\n",
    "\n",
    "Using the fit method, we use the training set split to train our model. "
   ]
  },
  {
   "cell_type": "code",
   "execution_count": 4,
   "id": "domestic-india",
   "metadata": {},
   "outputs": [
    {
     "data": {
      "text/plain": [
       "LogisticRegression()"
      ]
     },
     "execution_count": 4,
     "metadata": {},
     "output_type": "execute_result"
    }
   ],
   "source": [
    "logistic_model = LogisticRegression()\n",
    "logistic_model.fit(X_train, y_train)"
   ]
  },
  {
   "cell_type": "markdown",
   "id": "fewer-northwest",
   "metadata": {},
   "source": [
    "Since we did not use automated hyperparameter turners or assigned different hyperparameter values, the default values for the model were used. The get_params method shows us these default values."
   ]
  },
  {
   "cell_type": "code",
   "execution_count": 5,
   "id": "macro-albert",
   "metadata": {},
   "outputs": [
    {
     "data": {
      "text/plain": [
       "{'C': 1.0,\n",
       " 'class_weight': None,\n",
       " 'dual': False,\n",
       " 'fit_intercept': True,\n",
       " 'intercept_scaling': 1,\n",
       " 'l1_ratio': None,\n",
       " 'max_iter': 100,\n",
       " 'multi_class': 'auto',\n",
       " 'n_jobs': None,\n",
       " 'penalty': 'l2',\n",
       " 'random_state': None,\n",
       " 'solver': 'lbfgs',\n",
       " 'tol': 0.0001,\n",
       " 'verbose': 0,\n",
       " 'warm_start': False}"
      ]
     },
     "execution_count": 5,
     "metadata": {},
     "output_type": "execute_result"
    }
   ],
   "source": [
    "logistic_model.get_params()"
   ]
  },
  {
   "cell_type": "code",
   "execution_count": 6,
   "id": "removed-scholar",
   "metadata": {},
   "outputs": [],
   "source": [
    "logistic_pred_train =  logistic_model.predict(X_train)"
   ]
  },
  {
   "cell_type": "code",
   "execution_count": 7,
   "id": "prompt-kinase",
   "metadata": {},
   "outputs": [
    {
     "data": {
      "text/html": [
       "<div>\n",
       "<style scoped>\n",
       "    .dataframe tbody tr th:only-of-type {\n",
       "        vertical-align: middle;\n",
       "    }\n",
       "\n",
       "    .dataframe tbody tr th {\n",
       "        vertical-align: top;\n",
       "    }\n",
       "\n",
       "    .dataframe thead th {\n",
       "        text-align: right;\n",
       "    }\n",
       "</style>\n",
       "<table border=\"1\" class=\"dataframe\">\n",
       "  <thead>\n",
       "    <tr style=\"text-align: right;\">\n",
       "      <th></th>\n",
       "      <th>Scores</th>\n",
       "    </tr>\n",
       "  </thead>\n",
       "  <tbody>\n",
       "    <tr>\n",
       "      <th>Accuracy</th>\n",
       "      <td>89.33</td>\n",
       "    </tr>\n",
       "    <tr>\n",
       "      <th>Precision</th>\n",
       "      <td>86.30</td>\n",
       "    </tr>\n",
       "    <tr>\n",
       "      <th>Recall</th>\n",
       "      <td>94.57</td>\n",
       "    </tr>\n",
       "  </tbody>\n",
       "</table>\n",
       "</div>"
      ],
      "text/plain": [
       "           Scores\n",
       "Accuracy    89.33\n",
       "Precision   86.30\n",
       " Recall     94.57"
      ]
     },
     "execution_count": 7,
     "metadata": {},
     "output_type": "execute_result"
    }
   ],
   "source": [
    "logi_train_scores = [metrics.accuracy_score(y_train, logistic_pred_train)*100,\n",
    "                     metrics.precision_score(y_train, logistic_pred_train)*100,\n",
    "                     metrics.recall_score(y_train, logistic_pred_train)*100] \n",
    "\n",
    "df_logi_train = pd.DataFrame(logi_train_scores, columns = ['Scores'], index = ['Accuracy', 'Precision', ' Recall'])\n",
    "df_logi_train"
   ]
  },
  {
   "cell_type": "markdown",
   "id": "acknowledged-intellectual",
   "metadata": {},
   "source": [
    "The trained model achieved an accuracy of 89.33% on the training set. We can check if our model is overfitting or underfitting once we compare these values with the validiation and test set scores. \n",
    "\n",
    "To have an idea on how Logistic Regression works, we create a Dataframe that contains the actual value, predicted value, and probability of of a data point belonging to particular class. This probability informs the model whether to classify the point as 0 or 1."
   ]
  },
  {
   "cell_type": "code",
   "execution_count": 8,
   "id": "economic-pharmacy",
   "metadata": {},
   "outputs": [
    {
     "data": {
      "text/html": [
       "<div>\n",
       "<style scoped>\n",
       "    .dataframe tbody tr th:only-of-type {\n",
       "        vertical-align: middle;\n",
       "    }\n",
       "\n",
       "    .dataframe tbody tr th {\n",
       "        vertical-align: top;\n",
       "    }\n",
       "\n",
       "    .dataframe thead th {\n",
       "        text-align: right;\n",
       "    }\n",
       "</style>\n",
       "<table border=\"1\" class=\"dataframe\">\n",
       "  <thead>\n",
       "    <tr style=\"text-align: right;\">\n",
       "      <th></th>\n",
       "      <th>X1</th>\n",
       "      <th>X2</th>\n",
       "      <th>X3</th>\n",
       "      <th>X4</th>\n",
       "      <th>X5</th>\n",
       "      <th>Y</th>\n",
       "      <th>Pred</th>\n",
       "    </tr>\n",
       "  </thead>\n",
       "  <tbody>\n",
       "    <tr>\n",
       "      <th>0</th>\n",
       "      <td>-1.53</td>\n",
       "      <td>1.03</td>\n",
       "      <td>1.21</td>\n",
       "      <td>0.07</td>\n",
       "      <td>1.01</td>\n",
       "      <td>1</td>\n",
       "      <td>1</td>\n",
       "    </tr>\n",
       "    <tr>\n",
       "      <th>1</th>\n",
       "      <td>-0.35</td>\n",
       "      <td>-1.71</td>\n",
       "      <td>1.15</td>\n",
       "      <td>1.87</td>\n",
       "      <td>-0.81</td>\n",
       "      <td>0</td>\n",
       "      <td>0</td>\n",
       "    </tr>\n",
       "    <tr>\n",
       "      <th>2</th>\n",
       "      <td>0.77</td>\n",
       "      <td>-0.05</td>\n",
       "      <td>-0.62</td>\n",
       "      <td>-0.66</td>\n",
       "      <td>-0.02</td>\n",
       "      <td>0</td>\n",
       "      <td>0</td>\n",
       "    </tr>\n",
       "    <tr>\n",
       "      <th>3</th>\n",
       "      <td>-0.35</td>\n",
       "      <td>-1.66</td>\n",
       "      <td>2.18</td>\n",
       "      <td>0.80</td>\n",
       "      <td>0.48</td>\n",
       "      <td>0</td>\n",
       "      <td>0</td>\n",
       "    </tr>\n",
       "    <tr>\n",
       "      <th>4</th>\n",
       "      <td>-1.75</td>\n",
       "      <td>1.10</td>\n",
       "      <td>0.77</td>\n",
       "      <td>0.75</td>\n",
       "      <td>0.35</td>\n",
       "      <td>1</td>\n",
       "      <td>1</td>\n",
       "    </tr>\n",
       "  </tbody>\n",
       "</table>\n",
       "</div>"
      ],
      "text/plain": [
       "     X1    X2    X3    X4    X5  Y  Pred\n",
       "0 -1.53  1.03  1.21  0.07  1.01  1     1\n",
       "1 -0.35 -1.71  1.15  1.87 -0.81  0     0\n",
       "2  0.77 -0.05 -0.62 -0.66 -0.02  0     0\n",
       "3 -0.35 -1.66  2.18  0.80  0.48  0     0\n",
       "4 -1.75  1.10  0.77  0.75  0.35  1     1"
      ]
     },
     "execution_count": 8,
     "metadata": {},
     "output_type": "execute_result"
    }
   ],
   "source": [
    "df_train = pd.concat([X_train, y_train], axis = 1)\n",
    "df_train[\"Pred\"] = logistic_pred_train\n",
    "df_train.head(5)"
   ]
  },
  {
   "cell_type": "markdown",
   "id": "political-tours",
   "metadata": {},
   "source": [
    "The following creates a list with the probability of a data point being '1.' SKLearn's Logistic Regression uses a threshold of P >= 0.5, meaning that data points with a probability greather than or equal to 0.5 will be classified as belonging to the '1' class."
   ]
  },
  {
   "cell_type": "code",
   "execution_count": 9,
   "id": "photographic-norman",
   "metadata": {},
   "outputs": [],
   "source": [
    "prob =[x[1] for x in logistic_model.predict_proba(X_train)]"
   ]
  },
  {
   "cell_type": "code",
   "execution_count": 10,
   "id": "elder-thing",
   "metadata": {},
   "outputs": [
    {
     "data": {
      "text/html": [
       "<div>\n",
       "<style scoped>\n",
       "    .dataframe tbody tr th:only-of-type {\n",
       "        vertical-align: middle;\n",
       "    }\n",
       "\n",
       "    .dataframe tbody tr th {\n",
       "        vertical-align: top;\n",
       "    }\n",
       "\n",
       "    .dataframe thead th {\n",
       "        text-align: right;\n",
       "    }\n",
       "</style>\n",
       "<table border=\"1\" class=\"dataframe\">\n",
       "  <thead>\n",
       "    <tr style=\"text-align: right;\">\n",
       "      <th></th>\n",
       "      <th>Y</th>\n",
       "      <th>Pred</th>\n",
       "      <th>Probability</th>\n",
       "    </tr>\n",
       "  </thead>\n",
       "  <tbody>\n",
       "    <tr>\n",
       "      <th>0</th>\n",
       "      <td>1</td>\n",
       "      <td>1</td>\n",
       "      <td>0.91</td>\n",
       "    </tr>\n",
       "    <tr>\n",
       "      <th>1</th>\n",
       "      <td>0</td>\n",
       "      <td>0</td>\n",
       "      <td>0.03</td>\n",
       "    </tr>\n",
       "    <tr>\n",
       "      <th>2</th>\n",
       "      <td>0</td>\n",
       "      <td>0</td>\n",
       "      <td>0.02</td>\n",
       "    </tr>\n",
       "    <tr>\n",
       "      <th>3</th>\n",
       "      <td>0</td>\n",
       "      <td>0</td>\n",
       "      <td>0.30</td>\n",
       "    </tr>\n",
       "    <tr>\n",
       "      <th>4</th>\n",
       "      <td>1</td>\n",
       "      <td>1</td>\n",
       "      <td>0.80</td>\n",
       "    </tr>\n",
       "    <tr>\n",
       "      <th>5</th>\n",
       "      <td>0</td>\n",
       "      <td>0</td>\n",
       "      <td>0.02</td>\n",
       "    </tr>\n",
       "    <tr>\n",
       "      <th>6</th>\n",
       "      <td>1</td>\n",
       "      <td>1</td>\n",
       "      <td>0.62</td>\n",
       "    </tr>\n",
       "    <tr>\n",
       "      <th>7</th>\n",
       "      <td>1</td>\n",
       "      <td>1</td>\n",
       "      <td>0.55</td>\n",
       "    </tr>\n",
       "    <tr>\n",
       "      <th>8</th>\n",
       "      <td>0</td>\n",
       "      <td>0</td>\n",
       "      <td>0.09</td>\n",
       "    </tr>\n",
       "    <tr>\n",
       "      <th>9</th>\n",
       "      <td>0</td>\n",
       "      <td>0</td>\n",
       "      <td>0.04</td>\n",
       "    </tr>\n",
       "  </tbody>\n",
       "</table>\n",
       "</div>"
      ],
      "text/plain": [
       "   Y  Pred  Probability\n",
       "0  1     1         0.91\n",
       "1  0     0         0.03\n",
       "2  0     0         0.02\n",
       "3  0     0         0.30\n",
       "4  1     1         0.80\n",
       "5  0     0         0.02\n",
       "6  1     1         0.62\n",
       "7  1     1         0.55\n",
       "8  0     0         0.09\n",
       "9  0     0         0.04"
      ]
     },
     "execution_count": 10,
     "metadata": {},
     "output_type": "execute_result"
    }
   ],
   "source": [
    "df_train[\"Probability\"] = prob\n",
    "selection = df_train[[\"Y\", \"Pred\", \"Probability\"]]\n",
    "selection.head(10)"
   ]
  },
  {
   "cell_type": "markdown",
   "id": "arbitrary-penetration",
   "metadata": {},
   "source": [
    "---\n",
    "#### B. Evaluating the model using the validation set"
   ]
  },
  {
   "cell_type": "markdown",
   "id": "respiratory-documentary",
   "metadata": {},
   "source": [
    "To evaluate the performance of our model, we use the accuracy, precision, and recall metrics. A higher value for these metrics are desirable. The evaluation steps are similar for both the validation and test sets. Ideally, we use the validation set when we're performing cross validation techniques."
   ]
  },
  {
   "cell_type": "code",
   "execution_count": 11,
   "id": "tested-yemen",
   "metadata": {},
   "outputs": [],
   "source": [
    "logistic_pred_val =  logistic_model.predict(X_val)"
   ]
  },
  {
   "cell_type": "code",
   "execution_count": 12,
   "id": "harmful-bibliography",
   "metadata": {},
   "outputs": [
    {
     "data": {
      "text/html": [
       "<div>\n",
       "<style scoped>\n",
       "    .dataframe tbody tr th:only-of-type {\n",
       "        vertical-align: middle;\n",
       "    }\n",
       "\n",
       "    .dataframe tbody tr th {\n",
       "        vertical-align: top;\n",
       "    }\n",
       "\n",
       "    .dataframe thead th {\n",
       "        text-align: right;\n",
       "    }\n",
       "</style>\n",
       "<table border=\"1\" class=\"dataframe\">\n",
       "  <thead>\n",
       "    <tr style=\"text-align: right;\">\n",
       "      <th></th>\n",
       "      <th>Scores</th>\n",
       "    </tr>\n",
       "  </thead>\n",
       "  <tbody>\n",
       "    <tr>\n",
       "      <th>Accuracy</th>\n",
       "      <td>90.50</td>\n",
       "    </tr>\n",
       "    <tr>\n",
       "      <th>Precision</th>\n",
       "      <td>85.19</td>\n",
       "    </tr>\n",
       "    <tr>\n",
       "      <th>Recall</th>\n",
       "      <td>96.84</td>\n",
       "    </tr>\n",
       "  </tbody>\n",
       "</table>\n",
       "</div>"
      ],
      "text/plain": [
       "           Scores\n",
       "Accuracy    90.50\n",
       "Precision   85.19\n",
       " Recall     96.84"
      ]
     },
     "execution_count": 12,
     "metadata": {},
     "output_type": "execute_result"
    }
   ],
   "source": [
    "logi_val_scores = [metrics.accuracy_score(y_val, logistic_pred_val)*100,\n",
    "                   metrics.precision_score(y_val, logistic_pred_val)*100,\n",
    "                   metrics.recall_score(y_val, logistic_pred_val)*100] \n",
    "\n",
    "df_logi_val = pd.DataFrame(logi_val_scores, columns = ['Scores'], index = ['Accuracy', 'Precision', ' Recall'])\n",
    "df_logi_val"
   ]
  },
  {
   "cell_type": "markdown",
   "id": "stylish-johnson",
   "metadata": {},
   "source": [
    "For our validation set, we can see that the trained model attained respectable scores, garnering an accuracy of 90.50%."
   ]
  },
  {
   "cell_type": "markdown",
   "id": "right-arrow",
   "metadata": {},
   "source": [
    "---\n",
    "#### C. Evaluating the model using the test set"
   ]
  },
  {
   "cell_type": "code",
   "execution_count": 13,
   "id": "advanced-massachusetts",
   "metadata": {},
   "outputs": [],
   "source": [
    "logistic_pred_test =  logistic_model.predict(X_test)"
   ]
  },
  {
   "cell_type": "code",
   "execution_count": 14,
   "id": "accepting-tyler",
   "metadata": {},
   "outputs": [
    {
     "data": {
      "text/html": [
       "<div>\n",
       "<style scoped>\n",
       "    .dataframe tbody tr th:only-of-type {\n",
       "        vertical-align: middle;\n",
       "    }\n",
       "\n",
       "    .dataframe tbody tr th {\n",
       "        vertical-align: top;\n",
       "    }\n",
       "\n",
       "    .dataframe thead th {\n",
       "        text-align: right;\n",
       "    }\n",
       "</style>\n",
       "<table border=\"1\" class=\"dataframe\">\n",
       "  <thead>\n",
       "    <tr style=\"text-align: right;\">\n",
       "      <th></th>\n",
       "      <th>Scores</th>\n",
       "    </tr>\n",
       "  </thead>\n",
       "  <tbody>\n",
       "    <tr>\n",
       "      <th>Accuracy</th>\n",
       "      <td>88.50</td>\n",
       "    </tr>\n",
       "    <tr>\n",
       "      <th>Precision</th>\n",
       "      <td>84.00</td>\n",
       "    </tr>\n",
       "    <tr>\n",
       "      <th>Recall</th>\n",
       "      <td>92.31</td>\n",
       "    </tr>\n",
       "  </tbody>\n",
       "</table>\n",
       "</div>"
      ],
      "text/plain": [
       "           Scores\n",
       "Accuracy    88.50\n",
       "Precision   84.00\n",
       " Recall     92.31"
      ]
     },
     "execution_count": 14,
     "metadata": {},
     "output_type": "execute_result"
    }
   ],
   "source": [
    "logi_test_scores = [metrics.accuracy_score(y_test, logistic_pred_test)*100,\n",
    "                    metrics.precision_score(y_test, logistic_pred_test)*100,\n",
    "                    metrics.recall_score(y_test, logistic_pred_test)*100] \n",
    "\n",
    "df_logi_test = pd.DataFrame(logi_test_scores, columns = ['Scores'], index = ['Accuracy', 'Precision', ' Recall'])\n",
    "df_logi_test"
   ]
  },
  {
   "cell_type": "markdown",
   "id": "irish-baghdad",
   "metadata": {},
   "source": [
    "The difference between the three sets are small. From this, we can assume that the model is neither underfitting nor overfitting."
   ]
  },
  {
   "cell_type": "markdown",
   "id": "temporal-trading",
   "metadata": {},
   "source": [
    "---\n",
    "#### D. Saving metrics and model"
   ]
  },
  {
   "cell_type": "markdown",
   "id": "worthy-broad",
   "metadata": {},
   "source": [
    "For future use and reference, we save the scores of the model and the model itself. For the metrics, we have concatenated the different scores into a single dataframe and exported it as CSV with a timestamp. We also use the store magic so that we can access it in other notebooks."
   ]
  },
  {
   "cell_type": "code",
   "execution_count": 15,
   "id": "editorial-somewhere",
   "metadata": {},
   "outputs": [],
   "source": [
    "# Getting the current time to serve as timestamps\n",
    "timestr = time.strftime(\"%m%d-%H%M\")"
   ]
  },
  {
   "cell_type": "code",
   "execution_count": 16,
   "id": "serious-platform",
   "metadata": {},
   "outputs": [
    {
     "data": {
      "text/html": [
       "<div>\n",
       "<style scoped>\n",
       "    .dataframe tbody tr th:only-of-type {\n",
       "        vertical-align: middle;\n",
       "    }\n",
       "\n",
       "    .dataframe tbody tr th {\n",
       "        vertical-align: top;\n",
       "    }\n",
       "\n",
       "    .dataframe thead th {\n",
       "        text-align: right;\n",
       "    }\n",
       "</style>\n",
       "<table border=\"1\" class=\"dataframe\">\n",
       "  <thead>\n",
       "    <tr style=\"text-align: right;\">\n",
       "      <th></th>\n",
       "      <th>Training</th>\n",
       "      <th>Validation</th>\n",
       "      <th>Test</th>\n",
       "    </tr>\n",
       "  </thead>\n",
       "  <tbody>\n",
       "    <tr>\n",
       "      <th>Accuracy</th>\n",
       "      <td>89.33</td>\n",
       "      <td>90.50</td>\n",
       "      <td>88.50</td>\n",
       "    </tr>\n",
       "    <tr>\n",
       "      <th>Precision</th>\n",
       "      <td>86.30</td>\n",
       "      <td>85.19</td>\n",
       "      <td>84.00</td>\n",
       "    </tr>\n",
       "    <tr>\n",
       "      <th>Recall</th>\n",
       "      <td>94.57</td>\n",
       "      <td>96.84</td>\n",
       "      <td>92.31</td>\n",
       "    </tr>\n",
       "  </tbody>\n",
       "</table>\n",
       "</div>"
      ],
      "text/plain": [
       "           Training  Validation  Test\n",
       "Accuracy      89.33       90.50 88.50\n",
       "Precision     86.30       85.19 84.00\n",
       " Recall       94.57       96.84 92.31"
      ]
     },
     "execution_count": 16,
     "metadata": {},
     "output_type": "execute_result"
    }
   ],
   "source": [
    "df_logi_scores = pd.concat([df_logi_train, df_logi_val, df_logi_test], axis = 1)\n",
    "df_logi_scores.columns = ['Training','Validation','Test']\n",
    "df_logi_scores"
   ]
  },
  {
   "cell_type": "code",
   "execution_count": 17,
   "id": "photographic-slope",
   "metadata": {},
   "outputs": [
    {
     "name": "stdout",
     "output_type": "stream",
     "text": [
      "Stored 'df_logi_scores' (DataFrame)\n"
     ]
    }
   ],
   "source": [
    "metrics_filename = 'model/results/logistic_' + timestr + '.csv'\n",
    "df_logi_scores.to_csv(metrics_filename, index = False)\n",
    "%store df_logi_scores"
   ]
  },
  {
   "cell_type": "markdown",
   "id": "derived-diploma",
   "metadata": {},
   "source": [
    "Likewise, we do the same for the model itself, attaching the timestamp for easy reference."
   ]
  },
  {
   "cell_type": "code",
   "execution_count": 18,
   "id": "active-paint",
   "metadata": {},
   "outputs": [
    {
     "data": {
      "text/plain": [
       "['model/logistic_0529-2056.sav']"
      ]
     },
     "execution_count": 18,
     "metadata": {},
     "output_type": "execute_result"
    }
   ],
   "source": [
    "# Logistic regression model saving\n",
    "model_filename = 'model/logistic_' + timestr + '.sav'\n",
    "joblib.dump(logistic_model, model_filename)"
   ]
  }
 ],
 "metadata": {
  "kernelspec": {
   "display_name": "Python 3",
   "language": "python",
   "name": "python3"
  },
  "language_info": {
   "codemirror_mode": {
    "name": "ipython",
    "version": 3
   },
   "file_extension": ".py",
   "mimetype": "text/x-python",
   "name": "python",
   "nbconvert_exporter": "python",
   "pygments_lexer": "ipython3",
   "version": "3.9.1"
  }
 },
 "nbformat": 4,
 "nbformat_minor": 5
}
