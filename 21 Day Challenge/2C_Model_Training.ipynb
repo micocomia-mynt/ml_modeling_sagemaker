{
 "cells": [
  {
   "cell_type": "markdown",
   "id": "industrial-family",
   "metadata": {},
   "source": [
    "### Training a Model Locally - C\n",
    "Mico Ellerich M. Comia\n",
    "\n",
    "This notebook trains Sklearn's Support Vector Machine classifier to predict a binary output given a multi-dimensional input. No hyperparameter optimizations were applied and as such, the default values were used as is.\n",
    "\n",
    "---\n",
    "\n",
    "- SELECT 2 MACHINE LEARNING ALGORITHMS \n",
    "- FOR EACH OF THE ALGORITHMS\n",
    "    - PERFORM TRAINING ON THE TRAINING DATASET\n",
    "    - EVALUATE ON THE VALIDATION DATASET\n",
    "    - TEST THE TRAINED MODEL ON THE TEST SET\n",
    "    - SAVE THE MODEL USING JOBLIB (OR ALTERNATIVE)\n",
    "- COMPARE THE “PERFORMANCE” OF THE 2 MODELS USING THE EVALUATION METRICS\n",
    "---"
   ]
  },
  {
   "cell_type": "code",
   "execution_count": 1,
   "id": "changed-aberdeen",
   "metadata": {},
   "outputs": [],
   "source": [
    "import numpy as np\n",
    "import pandas as pd\n",
    "import matplotlib.pyplot as plt\n",
    "import sklearn\n",
    "import warnings\n",
    "import joblib\n",
    "import time\n",
    "\n",
    "from sklearn import metrics\n",
    "from sklearn.svm import SVC  \n",
    "from sklearn.decomposition import PCA"
   ]
  },
  {
   "cell_type": "code",
   "execution_count": 2,
   "id": "hollywood-encounter",
   "metadata": {},
   "outputs": [],
   "source": [
    "pd.options.display.float_format = '{:,.2f}'.format\n",
    "warnings.filterwarnings(action=\"ignore\")"
   ]
  },
  {
   "cell_type": "markdown",
   "id": "subject-retro",
   "metadata": {},
   "source": [
    "### I. Import dataset splits\n",
    "---"
   ]
  },
  {
   "cell_type": "markdown",
   "id": "peripheral-cause",
   "metadata": {},
   "source": [
    "First, we import the generated synthetic dataset from the previous notebook using Pandas' read_csv. This imports the CSV files as dataframes."
   ]
  },
  {
   "cell_type": "code",
   "execution_count": 3,
   "id": "laden-germany",
   "metadata": {},
   "outputs": [],
   "source": [
    "X_train =  pd.read_csv('data/X_train.csv')\n",
    "X_test =  pd.read_csv('data/X_test.csv') \n",
    "X_val = pd.read_csv('data/X_val.csv') \n",
    "y_train =  pd.read_csv('data/y_train.csv') \n",
    "y_test =  pd.read_csv('data/y_test.csv') \n",
    "y_val = pd.read_csv('data/y_val.csv') "
   ]
  },
  {
   "cell_type": "markdown",
   "id": "selected-administrator",
   "metadata": {},
   "source": [
    "### II. Training the SVM model\n",
    "---"
   ]
  },
  {
   "cell_type": "markdown",
   "id": "linear-darkness",
   "metadata": {},
   "source": [
    "#### A. Training on the training dataset\n",
    "\n",
    "Using the fit method, we use the training set split to train our model. "
   ]
  },
  {
   "cell_type": "code",
   "execution_count": 4,
   "id": "outstanding-blair",
   "metadata": {},
   "outputs": [
    {
     "data": {
      "text/plain": [
       "SVC()"
      ]
     },
     "execution_count": 4,
     "metadata": {},
     "output_type": "execute_result"
    }
   ],
   "source": [
    "svm_model = SVC(kernel='rbf')  \n",
    "svm_model.fit(X_train, y_train)  "
   ]
  },
  {
   "cell_type": "markdown",
   "id": "saving-polymer",
   "metadata": {},
   "source": [
    "Since we did not use automated hyperparameter turners or assigned different hyperparameter values, the default values for the model were used. The get_params method shows us these default values."
   ]
  },
  {
   "cell_type": "code",
   "execution_count": 5,
   "id": "outer-michael",
   "metadata": {},
   "outputs": [
    {
     "data": {
      "text/plain": [
       "{'C': 1.0,\n",
       " 'break_ties': False,\n",
       " 'cache_size': 200,\n",
       " 'class_weight': None,\n",
       " 'coef0': 0.0,\n",
       " 'decision_function_shape': 'ovr',\n",
       " 'degree': 3,\n",
       " 'gamma': 'scale',\n",
       " 'kernel': 'rbf',\n",
       " 'max_iter': -1,\n",
       " 'probability': False,\n",
       " 'random_state': None,\n",
       " 'shrinking': True,\n",
       " 'tol': 0.001,\n",
       " 'verbose': False}"
      ]
     },
     "execution_count": 5,
     "metadata": {},
     "output_type": "execute_result"
    }
   ],
   "source": [
    "svm_model.get_params()"
   ]
  },
  {
   "cell_type": "code",
   "execution_count": 6,
   "id": "written-press",
   "metadata": {},
   "outputs": [],
   "source": [
    "svm_pred_train =  svm_model.predict(X_train)"
   ]
  },
  {
   "cell_type": "code",
   "execution_count": 7,
   "id": "drawn-intranet",
   "metadata": {},
   "outputs": [
    {
     "data": {
      "text/html": [
       "<div>\n",
       "<style scoped>\n",
       "    .dataframe tbody tr th:only-of-type {\n",
       "        vertical-align: middle;\n",
       "    }\n",
       "\n",
       "    .dataframe tbody tr th {\n",
       "        vertical-align: top;\n",
       "    }\n",
       "\n",
       "    .dataframe thead th {\n",
       "        text-align: right;\n",
       "    }\n",
       "</style>\n",
       "<table border=\"1\" class=\"dataframe\">\n",
       "  <thead>\n",
       "    <tr style=\"text-align: right;\">\n",
       "      <th></th>\n",
       "      <th>Scores</th>\n",
       "    </tr>\n",
       "  </thead>\n",
       "  <tbody>\n",
       "    <tr>\n",
       "      <th>Accuracy</th>\n",
       "      <td>93.83</td>\n",
       "    </tr>\n",
       "    <tr>\n",
       "      <th>Precision</th>\n",
       "      <td>91.82</td>\n",
       "    </tr>\n",
       "    <tr>\n",
       "      <th>Recall</th>\n",
       "      <td>96.81</td>\n",
       "    </tr>\n",
       "  </tbody>\n",
       "</table>\n",
       "</div>"
      ],
      "text/plain": [
       "           Scores\n",
       "Accuracy    93.83\n",
       "Precision   91.82\n",
       " Recall     96.81"
      ]
     },
     "execution_count": 7,
     "metadata": {},
     "output_type": "execute_result"
    }
   ],
   "source": [
    "svm_train_scores = [metrics.accuracy_score(y_train, svm_pred_train)*100,\n",
    "                     metrics.precision_score(y_train, svm_pred_train)*100,\n",
    "                     metrics.recall_score(y_train, svm_pred_train)*100] \n",
    "\n",
    "df_svm_train = pd.DataFrame(svm_train_scores, columns = ['Scores'], index = ['Accuracy', 'Precision', ' Recall'])\n",
    "df_svm_train"
   ]
  },
  {
   "cell_type": "markdown",
   "id": "brief-closing",
   "metadata": {},
   "source": [
    "The trained model achieved an accuracy of 93.83% on the training set. These scores are higher than what we got from the Logistic Regression model."
   ]
  },
  {
   "cell_type": "markdown",
   "id": "intermediate-alexandria",
   "metadata": {},
   "source": [
    "---\n",
    "#### B. Visualizing the hyperplane\n",
    "\n",
    "Since the data is multi-dimensional, we employ PCA to condense the features (similar to what we did in Part 1). This gives us an idea on how the SVM model were able to classify the different datapoints."
   ]
  },
  {
   "cell_type": "code",
   "execution_count": 8,
   "id": "ranging-criterion",
   "metadata": {},
   "outputs": [],
   "source": [
    "pca = PCA(n_components=2).fit(X_train)\n",
    "pca_2d = pca.transform(X_train)"
   ]
  },
  {
   "cell_type": "markdown",
   "id": "acceptable-foster",
   "metadata": {},
   "source": [
    "Our initial model used the 5-feature training set to fit the SVM model. The following re-fits an SVM model using the condensed feature set."
   ]
  },
  {
   "cell_type": "code",
   "execution_count": 9,
   "id": "skilled-death",
   "metadata": {},
   "outputs": [
    {
     "data": {
      "text/plain": [
       "SVC()"
      ]
     },
     "execution_count": 9,
     "metadata": {},
     "output_type": "execute_result"
    }
   ],
   "source": [
    "svm_pca = SVC(kernel='rbf')  \n",
    "svm_pca.fit(pca_2d, y_train)"
   ]
  },
  {
   "cell_type": "markdown",
   "id": "banner-interest",
   "metadata": {},
   "source": [
    "The following shows what the hyperplane of the trained SVM model looks like. We can see that for the training set, the model was able to sufficiently separate the binary classes with a few outliers."
   ]
  },
  {
   "cell_type": "code",
   "execution_count": 10,
   "id": "happy-parade",
   "metadata": {},
   "outputs": [],
   "source": [
    "# Create a mesh to plot in\n",
    "x_min, x_max = pca_2d[:, 0].min() - 1, pca_2d[:, 0].max() + 1\n",
    "y_min, y_max = pca_2d[:, 1].min() - 1, pca_2d[:, 1].max() + 1\n",
    "xx, yy = np.meshgrid(np.arange(x_min, x_max, .01),np.arange(y_min, y_max, .01))"
   ]
  },
  {
   "cell_type": "code",
   "execution_count": 11,
   "id": "professional-statistics",
   "metadata": {},
   "outputs": [],
   "source": [
    "y_pred = svm_pca.predict(np.c_[xx.ravel(), yy.ravel()])"
   ]
  },
  {
   "cell_type": "code",
   "execution_count": 12,
   "id": "viral-funeral",
   "metadata": {},
   "outputs": [
    {
     "data": {
      "text/plain": [
       "Text(0.5, 1.0, 'Training Set')"
      ]
     },
     "execution_count": 12,
     "metadata": {},
     "output_type": "execute_result"
    },
    {
     "data": {
      "image/png": "[encoded data removed]",
      "text/plain": [
       "<Figure size 432x288 with 1 Axes>"
      ]
     },
     "metadata": {
      "needs_background": "light"
     },
     "output_type": "display_data"
    }
   ],
   "source": [
    "# Put the result into a color plot\n",
    "y_pred = y_pred.reshape(xx.shape)\n",
    "plt.contourf(xx, yy, y_pred, cmap=plt.cm.coolwarm, alpha=0.8)\n",
    "\n",
    "for i in range(0, pca_2d.shape[0]):\n",
    "\tif y_train['Y'].iloc[i] == 0:\n",
    "\t\tc1 = plt.scatter(pca_2d[i,0],pca_2d[i,1],c='b',    marker='+')\n",
    "\telif y_train['Y'].iloc[i] == 1:\n",
    "\t\tc2 = plt.scatter(pca_2d[i,0],pca_2d[i,1],c='r',    marker='*')\n",
    "\n",
    "plt.legend([c1, c2], ['0', '1'])\n",
    "plt.title('Training Set')"
   ]
  },
  {
   "cell_type": "markdown",
   "id": "resistant-hunger",
   "metadata": {},
   "source": [
    "---\n",
    "#### C. Evaluating the model using the validation set"
   ]
  },
  {
   "cell_type": "markdown",
   "id": "three-beverage",
   "metadata": {},
   "source": [
    "To evaluate the performance of our model, we use the accuracy, precision, and recall metrics. A higher value for these metrics are desirable. The evaluation steps are similar for both the validation and test sets. Ideally, we use the validation set when we're performing cross validation techniques."
   ]
  },
  {
   "cell_type": "code",
   "execution_count": 13,
   "id": "mechanical-account",
   "metadata": {},
   "outputs": [],
   "source": [
    "svm_pred_val =  svm_model.predict(X_val)"
   ]
  },
  {
   "cell_type": "code",
   "execution_count": 14,
   "id": "instant-density",
   "metadata": {},
   "outputs": [
    {
     "data": {
      "text/html": [
       "<div>\n",
       "<style scoped>\n",
       "    .dataframe tbody tr th:only-of-type {\n",
       "        vertical-align: middle;\n",
       "    }\n",
       "\n",
       "    .dataframe tbody tr th {\n",
       "        vertical-align: top;\n",
       "    }\n",
       "\n",
       "    .dataframe thead th {\n",
       "        text-align: right;\n",
       "    }\n",
       "</style>\n",
       "<table border=\"1\" class=\"dataframe\">\n",
       "  <thead>\n",
       "    <tr style=\"text-align: right;\">\n",
       "      <th></th>\n",
       "      <th>Scores</th>\n",
       "    </tr>\n",
       "  </thead>\n",
       "  <tbody>\n",
       "    <tr>\n",
       "      <th>Accuracy</th>\n",
       "      <td>95.50</td>\n",
       "    </tr>\n",
       "    <tr>\n",
       "      <th>Precision</th>\n",
       "      <td>93.00</td>\n",
       "    </tr>\n",
       "    <tr>\n",
       "      <th>Recall</th>\n",
       "      <td>97.89</td>\n",
       "    </tr>\n",
       "  </tbody>\n",
       "</table>\n",
       "</div>"
      ],
      "text/plain": [
       "           Scores\n",
       "Accuracy    95.50\n",
       "Precision   93.00\n",
       " Recall     97.89"
      ]
     },
     "execution_count": 14,
     "metadata": {},
     "output_type": "execute_result"
    }
   ],
   "source": [
    "svm_val_scores = [metrics.accuracy_score(y_val, svm_pred_val)*100,\n",
    "                     metrics.precision_score(y_val, svm_pred_val)*100,\n",
    "                     metrics.recall_score(y_val, svm_pred_val)*100] \n",
    "\n",
    "df_svm_val = pd.DataFrame(svm_val_scores, columns = ['Scores'], index = ['Accuracy', 'Precision', ' Recall'])\n",
    "df_svm_val"
   ]
  },
  {
   "cell_type": "markdown",
   "id": "third-congo",
   "metadata": {},
   "source": [
    "---\n",
    "#### D. Evaluating the model using the test set\n",
    "\n",
    "The steps for the model evaluation using the test set is similar to that of the validation set's. Overall, we can see that the scores of the SVM model is higher than that of both the Logistic Regression and Linear Learner models."
   ]
  },
  {
   "cell_type": "code",
   "execution_count": 15,
   "id": "musical-lighting",
   "metadata": {},
   "outputs": [],
   "source": [
    "svm_pred_test =  svm_model.predict(X_test)"
   ]
  },
  {
   "cell_type": "code",
   "execution_count": 16,
   "id": "built-identifier",
   "metadata": {},
   "outputs": [
    {
     "data": {
      "text/html": [
       "<div>\n",
       "<style scoped>\n",
       "    .dataframe tbody tr th:only-of-type {\n",
       "        vertical-align: middle;\n",
       "    }\n",
       "\n",
       "    .dataframe tbody tr th {\n",
       "        vertical-align: top;\n",
       "    }\n",
       "\n",
       "    .dataframe thead th {\n",
       "        text-align: right;\n",
       "    }\n",
       "</style>\n",
       "<table border=\"1\" class=\"dataframe\">\n",
       "  <thead>\n",
       "    <tr style=\"text-align: right;\">\n",
       "      <th></th>\n",
       "      <th>Scores</th>\n",
       "    </tr>\n",
       "  </thead>\n",
       "  <tbody>\n",
       "    <tr>\n",
       "      <th>Accuracy</th>\n",
       "      <td>96.50</td>\n",
       "    </tr>\n",
       "    <tr>\n",
       "      <th>Precision</th>\n",
       "      <td>94.68</td>\n",
       "    </tr>\n",
       "    <tr>\n",
       "      <th>Recall</th>\n",
       "      <td>97.80</td>\n",
       "    </tr>\n",
       "  </tbody>\n",
       "</table>\n",
       "</div>"
      ],
      "text/plain": [
       "           Scores\n",
       "Accuracy    96.50\n",
       "Precision   94.68\n",
       " Recall     97.80"
      ]
     },
     "execution_count": 16,
     "metadata": {},
     "output_type": "execute_result"
    }
   ],
   "source": [
    "svm_test_scores = [metrics.accuracy_score(y_test, svm_pred_test)*100,\n",
    "                     metrics.precision_score(y_test, svm_pred_test)*100,\n",
    "                     metrics.recall_score(y_test, svm_pred_test)*100] \n",
    "\n",
    "df_svm_test = pd.DataFrame(svm_test_scores, columns = ['Scores'], index = ['Accuracy', 'Precision', ' Recall'])\n",
    "df_svm_test"
   ]
  },
  {
   "cell_type": "markdown",
   "id": "turkish-reset",
   "metadata": {},
   "source": [
    "---\n",
    "#### E. Saving the scores and models\n",
    "\n",
    "For future use and reference, we save the scores of the model and the model itself. For the metrics, we have concatenated the different scores into a single dataframe and exported it as CSV with a timestamp. We also use the store magic so that we can access it in other notebooks."
   ]
  },
  {
   "cell_type": "code",
   "execution_count": 17,
   "id": "exciting-patent",
   "metadata": {},
   "outputs": [],
   "source": [
    "timestr = time.strftime(\"%m%d-%H%M\")"
   ]
  },
  {
   "cell_type": "code",
   "execution_count": 18,
   "id": "aboriginal-union",
   "metadata": {},
   "outputs": [
    {
     "data": {
      "text/html": [
       "<div>\n",
       "<style scoped>\n",
       "    .dataframe tbody tr th:only-of-type {\n",
       "        vertical-align: middle;\n",
       "    }\n",
       "\n",
       "    .dataframe tbody tr th {\n",
       "        vertical-align: top;\n",
       "    }\n",
       "\n",
       "    .dataframe thead th {\n",
       "        text-align: right;\n",
       "    }\n",
       "</style>\n",
       "<table border=\"1\" class=\"dataframe\">\n",
       "  <thead>\n",
       "    <tr style=\"text-align: right;\">\n",
       "      <th></th>\n",
       "      <th>Training</th>\n",
       "      <th>Validation</th>\n",
       "      <th>Test</th>\n",
       "    </tr>\n",
       "  </thead>\n",
       "  <tbody>\n",
       "    <tr>\n",
       "      <th>Accuracy</th>\n",
       "      <td>93.83</td>\n",
       "      <td>95.50</td>\n",
       "      <td>96.50</td>\n",
       "    </tr>\n",
       "    <tr>\n",
       "      <th>Precision</th>\n",
       "      <td>91.82</td>\n",
       "      <td>93.00</td>\n",
       "      <td>94.68</td>\n",
       "    </tr>\n",
       "    <tr>\n",
       "      <th>Recall</th>\n",
       "      <td>96.81</td>\n",
       "      <td>97.89</td>\n",
       "      <td>97.80</td>\n",
       "    </tr>\n",
       "  </tbody>\n",
       "</table>\n",
       "</div>"
      ],
      "text/plain": [
       "           Training  Validation  Test\n",
       "Accuracy      93.83       95.50 96.50\n",
       "Precision     91.82       93.00 94.68\n",
       " Recall       96.81       97.89 97.80"
      ]
     },
     "execution_count": 18,
     "metadata": {},
     "output_type": "execute_result"
    }
   ],
   "source": [
    "df_svm_scores = pd.concat([df_svm_train, df_svm_val, df_svm_test], axis = 1)\n",
    "df_svm_scores.columns = ['Training','Validation','Test']\n",
    "df_svm_scores"
   ]
  },
  {
   "cell_type": "code",
   "execution_count": 19,
   "id": "widespread-reservoir",
   "metadata": {},
   "outputs": [],
   "source": [
    "metrics_filename = 'model/results/svm_' + timestr + '.csv'\n",
    "df_svm_scores.to_csv(metrics_filename, index = False)"
   ]
  },
  {
   "cell_type": "markdown",
   "id": "public-latter",
   "metadata": {},
   "source": [
    "Likewise, we do the same for the model itself, attaching the timestamp for easy reference."
   ]
  },
  {
   "cell_type": "code",
   "execution_count": 20,
   "id": "therapeutic-disclosure",
   "metadata": {},
   "outputs": [
    {
     "data": {
      "text/plain": [
       "['model/svm_0529-2341.sav']"
      ]
     },
     "execution_count": 20,
     "metadata": {},
     "output_type": "execute_result"
    }
   ],
   "source": [
    "# SVM model saving\n",
    "model_filename = 'model/svm_' + timestr + '.sav'\n",
    "joblib.dump(svm_model, model_filename)"
   ]
  },
  {
   "cell_type": "markdown",
   "id": "municipal-rainbow",
   "metadata": {},
   "source": [
    "### III. Comparison of models\n",
    "---"
   ]
  },
  {
   "cell_type": "markdown",
   "id": "pregnant-carbon",
   "metadata": {},
   "source": [
    "Since we have stored the dataframe of the scores of the Logistic Regression model, we could retrieve the dataframe using %store -r. We also import the scores of the Linear Learner model using read_csv."
   ]
  },
  {
   "cell_type": "code",
   "execution_count": 21,
   "id": "clinical-japanese",
   "metadata": {},
   "outputs": [],
   "source": [
    "%store -r df_logi_scores\n",
    "df_linear_scores = pd.read_csv('model/results/linear_0529-1534.csv') "
   ]
  },
  {
   "cell_type": "markdown",
   "id": "immune-microphone",
   "metadata": {},
   "source": [
    "---\n",
    "#### A. Logistic Regression"
   ]
  },
  {
   "cell_type": "code",
   "execution_count": 22,
   "id": "comparative-mouse",
   "metadata": {},
   "outputs": [
    {
     "data": {
      "text/html": [
       "<div>\n",
       "<style scoped>\n",
       "    .dataframe tbody tr th:only-of-type {\n",
       "        vertical-align: middle;\n",
       "    }\n",
       "\n",
       "    .dataframe tbody tr th {\n",
       "        vertical-align: top;\n",
       "    }\n",
       "\n",
       "    .dataframe thead th {\n",
       "        text-align: right;\n",
       "    }\n",
       "</style>\n",
       "<table border=\"1\" class=\"dataframe\">\n",
       "  <thead>\n",
       "    <tr style=\"text-align: right;\">\n",
       "      <th></th>\n",
       "      <th>Training</th>\n",
       "      <th>Validation</th>\n",
       "      <th>Test</th>\n",
       "    </tr>\n",
       "  </thead>\n",
       "  <tbody>\n",
       "    <tr>\n",
       "      <th>Accuracy</th>\n",
       "      <td>89.33</td>\n",
       "      <td>90.50</td>\n",
       "      <td>88.50</td>\n",
       "    </tr>\n",
       "    <tr>\n",
       "      <th>Precision</th>\n",
       "      <td>86.30</td>\n",
       "      <td>85.19</td>\n",
       "      <td>84.00</td>\n",
       "    </tr>\n",
       "    <tr>\n",
       "      <th>Recall</th>\n",
       "      <td>94.57</td>\n",
       "      <td>96.84</td>\n",
       "      <td>92.31</td>\n",
       "    </tr>\n",
       "  </tbody>\n",
       "</table>\n",
       "</div>"
      ],
      "text/plain": [
       "           Training  Validation  Test\n",
       "Accuracy      89.33       90.50 88.50\n",
       "Precision     86.30       85.19 84.00\n",
       " Recall       94.57       96.84 92.31"
      ]
     },
     "execution_count": 22,
     "metadata": {},
     "output_type": "execute_result"
    }
   ],
   "source": [
    "df_logi_scores"
   ]
  },
  {
   "cell_type": "markdown",
   "id": "focused-throat",
   "metadata": {},
   "source": [
    "---\n",
    "#### B. Linear Learner"
   ]
  },
  {
   "cell_type": "code",
   "execution_count": 27,
   "id": "ethical-vermont",
   "metadata": {},
   "outputs": [
    {
     "data": {
      "text/html": [
       "<div>\n",
       "<style scoped>\n",
       "    .dataframe tbody tr th:only-of-type {\n",
       "        vertical-align: middle;\n",
       "    }\n",
       "\n",
       "    .dataframe tbody tr th {\n",
       "        vertical-align: top;\n",
       "    }\n",
       "\n",
       "    .dataframe thead th {\n",
       "        text-align: right;\n",
       "    }\n",
       "</style>\n",
       "<table border=\"1\" class=\"dataframe\">\n",
       "  <thead>\n",
       "    <tr style=\"text-align: right;\">\n",
       "      <th></th>\n",
       "      <th>Training</th>\n",
       "      <th>Validation</th>\n",
       "      <th>Test</th>\n",
       "    </tr>\n",
       "  </thead>\n",
       "  <tbody>\n",
       "    <tr>\n",
       "      <th>Accuracy</th>\n",
       "      <td>89.83</td>\n",
       "      <td>91.00</td>\n",
       "      <td>89.00</td>\n",
       "    </tr>\n",
       "    <tr>\n",
       "      <th>Precision</th>\n",
       "      <td>86.63</td>\n",
       "      <td>85.98</td>\n",
       "      <td>82.24</td>\n",
       "    </tr>\n",
       "    <tr>\n",
       "      <th>Recall</th>\n",
       "      <td>95.21</td>\n",
       "      <td>96.84</td>\n",
       "      <td>96.70</td>\n",
       "    </tr>\n",
       "  </tbody>\n",
       "</table>\n",
       "</div>"
      ],
      "text/plain": [
       "           Training  Validation  Test\n",
       "Accuracy      89.83       91.00 89.00\n",
       "Precision     86.63       85.98 82.24\n",
       "Recall        95.21       96.84 96.70"
      ]
     },
     "execution_count": 27,
     "metadata": {},
     "output_type": "execute_result"
    }
   ],
   "source": [
    "df_linear_scores.set_index(pd.Index(['Accuracy','Precision','Recall']))"
   ]
  },
  {
   "cell_type": "markdown",
   "id": "available-percentage",
   "metadata": {},
   "source": [
    "---\n",
    "#### C. SVM"
   ]
  },
  {
   "cell_type": "code",
   "execution_count": 23,
   "id": "suspended-airline",
   "metadata": {},
   "outputs": [
    {
     "data": {
      "text/html": [
       "<div>\n",
       "<style scoped>\n",
       "    .dataframe tbody tr th:only-of-type {\n",
       "        vertical-align: middle;\n",
       "    }\n",
       "\n",
       "    .dataframe tbody tr th {\n",
       "        vertical-align: top;\n",
       "    }\n",
       "\n",
       "    .dataframe thead th {\n",
       "        text-align: right;\n",
       "    }\n",
       "</style>\n",
       "<table border=\"1\" class=\"dataframe\">\n",
       "  <thead>\n",
       "    <tr style=\"text-align: right;\">\n",
       "      <th></th>\n",
       "      <th>Training</th>\n",
       "      <th>Validation</th>\n",
       "      <th>Test</th>\n",
       "    </tr>\n",
       "  </thead>\n",
       "  <tbody>\n",
       "    <tr>\n",
       "      <th>Accuracy</th>\n",
       "      <td>93.83</td>\n",
       "      <td>95.50</td>\n",
       "      <td>96.50</td>\n",
       "    </tr>\n",
       "    <tr>\n",
       "      <th>Precision</th>\n",
       "      <td>91.82</td>\n",
       "      <td>93.00</td>\n",
       "      <td>94.68</td>\n",
       "    </tr>\n",
       "    <tr>\n",
       "      <th>Recall</th>\n",
       "      <td>96.81</td>\n",
       "      <td>97.89</td>\n",
       "      <td>97.80</td>\n",
       "    </tr>\n",
       "  </tbody>\n",
       "</table>\n",
       "</div>"
      ],
      "text/plain": [
       "           Training  Validation  Test\n",
       "Accuracy      93.83       95.50 96.50\n",
       "Precision     91.82       93.00 94.68\n",
       " Recall       96.81       97.89 97.80"
      ]
     },
     "execution_count": 23,
     "metadata": {},
     "output_type": "execute_result"
    }
   ],
   "source": [
    "df_svm_scores.set_index()"
   ]
  },
  {
   "cell_type": "markdown",
   "id": "front-degree",
   "metadata": {},
   "source": [
    "---\n",
    "Based on the evaluation metrics, the best model among the three is the SVM model. Generally, the scores of the Logistic Regression and Linear Learner models are similar to one another, with Linear Learner having slightly better scores.\n",
    "\n",
    "Since the improvement in scores of the scores of SVM over the other two models are substantial, the deployed endpoint using Flask API utilized the SVM model."
   ]
  },
  {
   "cell_type": "code",
   "execution_count": null,
   "id": "quick-wrist",
   "metadata": {},
   "outputs": [],
   "source": []
  }
 ],
 "metadata": {
  "kernelspec": {
   "display_name": "Python 3",
   "language": "python",
   "name": "python3"
  },
  "language_info": {
   "codemirror_mode": {
    "name": "ipython",
    "version": 3
   },
   "file_extension": ".py",
   "mimetype": "text/x-python",
   "name": "python",
   "nbconvert_exporter": "python",
   "pygments_lexer": "ipython3",
   "version": "3.9.1"
  }
 },
 "nbformat": 4,
 "nbformat_minor": 5
}
