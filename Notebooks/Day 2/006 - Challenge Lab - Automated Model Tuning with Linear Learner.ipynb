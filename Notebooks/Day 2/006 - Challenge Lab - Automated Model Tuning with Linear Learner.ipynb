{
 "cells": [
  {
   "cell_type": "code",
   "execution_count": 1,
   "id": "7bda6486",
   "metadata": {},
   "outputs": [],
   "source": [
    "import pandas as pd\n",
    "filename = \"files/001.csv\"\n",
    "df_all_data = pd.read_csv(filename)"
   ]
  },
  {
   "cell_type": "code",
   "execution_count": 2,
   "id": "fbeb801c",
   "metadata": {},
   "outputs": [
    {
     "data": {
      "text/html": [
       "<div>\n",
       "<style scoped>\n",
       "    .dataframe tbody tr th:only-of-type {\n",
       "        vertical-align: middle;\n",
       "    }\n",
       "\n",
       "    .dataframe tbody tr th {\n",
       "        vertical-align: top;\n",
       "    }\n",
       "\n",
       "    .dataframe thead th {\n",
       "        text-align: right;\n",
       "    }\n",
       "</style>\n",
       "<table border=\"1\" class=\"dataframe\">\n",
       "  <thead>\n",
       "    <tr style=\"text-align: right;\">\n",
       "      <th></th>\n",
       "      <th>property</th>\n",
       "      <th>floors</th>\n",
       "      <th>price</th>\n",
       "    </tr>\n",
       "  </thead>\n",
       "  <tbody>\n",
       "    <tr>\n",
       "      <th>0</th>\n",
       "      <td>a</td>\n",
       "      <td>3</td>\n",
       "      <td>1000</td>\n",
       "    </tr>\n",
       "    <tr>\n",
       "      <th>1</th>\n",
       "      <td>b</td>\n",
       "      <td>4</td>\n",
       "      <td>1500</td>\n",
       "    </tr>\n",
       "    <tr>\n",
       "      <th>2</th>\n",
       "      <td>c</td>\n",
       "      <td>6</td>\n",
       "      <td>3000</td>\n",
       "    </tr>\n",
       "    <tr>\n",
       "      <th>3</th>\n",
       "      <td>d</td>\n",
       "      <td>8</td>\n",
       "      <td>3200</td>\n",
       "    </tr>\n",
       "    <tr>\n",
       "      <th>4</th>\n",
       "      <td>e</td>\n",
       "      <td>2</td>\n",
       "      <td>1200</td>\n",
       "    </tr>\n",
       "    <tr>\n",
       "      <th>5</th>\n",
       "      <td>f</td>\n",
       "      <td>9</td>\n",
       "      <td>4000</td>\n",
       "    </tr>\n",
       "    <tr>\n",
       "      <th>6</th>\n",
       "      <td>g</td>\n",
       "      <td>10</td>\n",
       "      <td>4200</td>\n",
       "    </tr>\n",
       "    <tr>\n",
       "      <th>7</th>\n",
       "      <td>h</td>\n",
       "      <td>11</td>\n",
       "      <td>5000</td>\n",
       "    </tr>\n",
       "    <tr>\n",
       "      <th>8</th>\n",
       "      <td>i</td>\n",
       "      <td>12</td>\n",
       "      <td>5500</td>\n",
       "    </tr>\n",
       "    <tr>\n",
       "      <th>9</th>\n",
       "      <td>j</td>\n",
       "      <td>15</td>\n",
       "      <td>7000</td>\n",
       "    </tr>\n",
       "    <tr>\n",
       "      <th>10</th>\n",
       "      <td>k</td>\n",
       "      <td>16</td>\n",
       "      <td>8000</td>\n",
       "    </tr>\n",
       "    <tr>\n",
       "      <th>11</th>\n",
       "      <td>l</td>\n",
       "      <td>5</td>\n",
       "      <td>1800</td>\n",
       "    </tr>\n",
       "    <tr>\n",
       "      <th>12</th>\n",
       "      <td>m</td>\n",
       "      <td>8</td>\n",
       "      <td>2800</td>\n",
       "    </tr>\n",
       "    <tr>\n",
       "      <th>13</th>\n",
       "      <td>n</td>\n",
       "      <td>10</td>\n",
       "      <td>4400</td>\n",
       "    </tr>\n",
       "    <tr>\n",
       "      <th>14</th>\n",
       "      <td>o</td>\n",
       "      <td>11</td>\n",
       "      <td>4500</td>\n",
       "    </tr>\n",
       "    <tr>\n",
       "      <th>15</th>\n",
       "      <td>p</td>\n",
       "      <td>12</td>\n",
       "      <td>4800</td>\n",
       "    </tr>\n",
       "    <tr>\n",
       "      <th>16</th>\n",
       "      <td>q</td>\n",
       "      <td>1</td>\n",
       "      <td>500</td>\n",
       "    </tr>\n",
       "    <tr>\n",
       "      <th>17</th>\n",
       "      <td>r</td>\n",
       "      <td>2</td>\n",
       "      <td>800</td>\n",
       "    </tr>\n",
       "    <tr>\n",
       "      <th>18</th>\n",
       "      <td>s</td>\n",
       "      <td>5</td>\n",
       "      <td>1800</td>\n",
       "    </tr>\n",
       "    <tr>\n",
       "      <th>19</th>\n",
       "      <td>t</td>\n",
       "      <td>6</td>\n",
       "      <td>2900</td>\n",
       "    </tr>\n",
       "  </tbody>\n",
       "</table>\n",
       "</div>"
      ],
      "text/plain": [
       "   property  floors  price\n",
       "0         a       3   1000\n",
       "1         b       4   1500\n",
       "2         c       6   3000\n",
       "3         d       8   3200\n",
       "4         e       2   1200\n",
       "5         f       9   4000\n",
       "6         g      10   4200\n",
       "7         h      11   5000\n",
       "8         i      12   5500\n",
       "9         j      15   7000\n",
       "10        k      16   8000\n",
       "11        l       5   1800\n",
       "12        m       8   2800\n",
       "13        n      10   4400\n",
       "14        o      11   4500\n",
       "15        p      12   4800\n",
       "16        q       1    500\n",
       "17        r       2    800\n",
       "18        s       5   1800\n",
       "19        t       6   2900"
      ]
     },
     "execution_count": 2,
     "metadata": {},
     "output_type": "execute_result"
    }
   ],
   "source": [
    "df_all_data"
   ]
  },
  {
   "cell_type": "code",
   "execution_count": 3,
   "id": "03dde1a6",
   "metadata": {},
   "outputs": [],
   "source": [
    "%matplotlib inline\n",
    "import matplotlib.pyplot as plt"
   ]
  },
  {
   "cell_type": "code",
   "execution_count": 4,
   "id": "eede2072",
   "metadata": {},
   "outputs": [
    {
     "data": {
      "text/plain": [
       "Text(0, 0.5, 'price (USD)')"
      ]
     },
     "execution_count": 4,
     "metadata": {},
     "output_type": "execute_result"
    },
    {
     "data": {
      "image/png": "[encoded data removed]",
      "text/plain": [
       "<Figure size 576x576 with 1 Axes>"
      ]
     },
     "metadata": {
      "needs_background": "light"
     },
     "output_type": "display_data"
    }
   ],
   "source": [
    "plt.rcParams[\"figure.figsize\"] = (8,8) \n",
    "plt.scatter(df_all_data.floors, df_all_data.price)\n",
    "plt.xlabel('floors', fontsize=18) \n",
    "plt.ylabel('price (USD)', fontsize=16) "
   ]
  },
  {
   "cell_type": "code",
   "execution_count": 5,
   "id": "b9fdf0e6",
   "metadata": {},
   "outputs": [],
   "source": [
    "from sklearn.model_selection import train_test_split\n",
    "\n",
    "X = df_all_data['floors'].values \n",
    "y = df_all_data['price'].values\n",
    "X_train_val, X_test, y_train_val, y_test = train_test_split(X, y, test_size=0.2, random_state=0)\n",
    "X_train, X_val, y_train, y_val = train_test_split(X_train_val, y_train_val, test_size=0.25, random_state=0)"
   ]
  },
  {
   "cell_type": "code",
   "execution_count": 6,
   "id": "d677dc97",
   "metadata": {},
   "outputs": [
    {
     "data": {
      "text/plain": [
       "12"
      ]
     },
     "execution_count": 6,
     "metadata": {},
     "output_type": "execute_result"
    }
   ],
   "source": [
    "len(X_train)"
   ]
  },
  {
   "cell_type": "code",
   "execution_count": 7,
   "id": "57736201",
   "metadata": {},
   "outputs": [
    {
     "data": {
      "text/plain": [
       "4"
      ]
     },
     "execution_count": 7,
     "metadata": {},
     "output_type": "execute_result"
    }
   ],
   "source": [
    "len(X_val)"
   ]
  },
  {
   "cell_type": "code",
   "execution_count": 8,
   "id": "050a7e75",
   "metadata": {},
   "outputs": [
    {
     "data": {
      "text/plain": [
       "4"
      ]
     },
     "execution_count": 8,
     "metadata": {},
     "output_type": "execute_result"
    }
   ],
   "source": [
    "len(X_test)"
   ]
  },
  {
   "cell_type": "code",
   "execution_count": 9,
   "id": "2fa1758b",
   "metadata": {},
   "outputs": [],
   "source": [
    "import sagemaker\n",
    "from sagemaker import get_execution_role\n",
    "\n",
    "session = sagemaker.Session()\n",
    "role = get_execution_role()\n",
    "bucket = session.default_bucket()"
   ]
  },
  {
   "cell_type": "code",
   "execution_count": 10,
   "id": "b4550e1c",
   "metadata": {},
   "outputs": [],
   "source": [
    "import pandas as pd\n",
    "\n",
    "train_dataset = pd.DataFrame(dict(y=y_train, x=X_train))\n",
    "val_dataset = pd.DataFrame(dict(y=y_val, x=X_val))\n",
    "test_dataset = pd.DataFrame(dict(y=y_test, x=X_test))"
   ]
  },
  {
   "cell_type": "code",
   "execution_count": 11,
   "id": "d4c158c4",
   "metadata": {},
   "outputs": [],
   "source": [
    "!mkdir -p tmp"
   ]
  },
  {
   "cell_type": "code",
   "execution_count": 12,
   "id": "c0756869",
   "metadata": {},
   "outputs": [],
   "source": [
    "train_dataset.to_csv(\"tmp/002.train.csv\", header=False, index=False)\n",
    "val_dataset.to_csv(\"tmp/002.val.csv\", header=False, index=False)\n",
    "test_dataset.to_csv(\"tmp/002.test.csv\", header=False, index=False)"
   ]
  },
  {
   "cell_type": "code",
   "execution_count": 13,
   "id": "ddc5a983",
   "metadata": {},
   "outputs": [
    {
     "name": "stdout",
     "output_type": "stream",
     "text": [
      "1000,3\r\n",
      "1200,2\r\n",
      "4200,10\r\n",
      "4800,12\r\n",
      "500,1\r\n",
      "4500,11\r\n",
      "2800,8\r\n",
      "1800,5\r\n",
      "4400,10\r\n",
      "8000,16\r\n",
      "3000,6\r\n",
      "3200,8\r\n"
     ]
    }
   ],
   "source": [
    "!cat tmp/002.train.csv"
   ]
  },
  {
   "cell_type": "code",
   "execution_count": 14,
   "id": "b347cfb9",
   "metadata": {},
   "outputs": [
    {
     "name": "stdout",
     "output_type": "stream",
     "text": [
      "800,2\r\n",
      "4000,9\r\n",
      "7000,15\r\n",
      "5000,11\r\n"
     ]
    }
   ],
   "source": [
    "!cat tmp/002.val.csv"
   ]
  },
  {
   "cell_type": "code",
   "execution_count": 15,
   "id": "0b2ab46a",
   "metadata": {},
   "outputs": [
    {
     "name": "stdout",
     "output_type": "stream",
     "text": [
      "1800,5\r\n",
      "1500,4\r\n",
      "2900,6\r\n",
      "5500,12\r\n"
     ]
    }
   ],
   "source": [
    "!cat tmp/002.test.csv"
   ]
  },
  {
   "cell_type": "code",
   "execution_count": 16,
   "id": "94ba5e9f",
   "metadata": {},
   "outputs": [],
   "source": [
    "train_s3_path = session.upload_data(\"tmp/002.train.csv\")\n",
    "val_s3_path = session.upload_data(\"tmp/002.val.csv\")\n",
    "test_s3_path = session.upload_data(\"tmp/002.test.csv\")"
   ]
  },
  {
   "cell_type": "code",
   "execution_count": 17,
   "id": "a8efc7d5",
   "metadata": {},
   "outputs": [],
   "source": [
    "import sagemaker\n",
    "import boto3\n",
    "from sagemaker import tuner\n",
    "\n",
    "region = boto3.Session().region_name    \n",
    "client = boto3.Session().client('sagemaker')\n",
    "session = sagemaker.Session()\n",
    "role = sagemaker.get_execution_role()"
   ]
  },
  {
   "cell_type": "code",
   "execution_count": 18,
   "id": "9636ef8d",
   "metadata": {},
   "outputs": [
    {
     "data": {
      "text/plain": [
       "'382416733822.dkr.ecr.us-east-1.amazonaws.com/linear-learner:1'"
      ]
     },
     "execution_count": 18,
     "metadata": {},
     "output_type": "execute_result"
    }
   ],
   "source": [
    "from sagemaker.image_uris import retrieve\n",
    "\n",
    "container = retrieve('linear-learner', region, version=\"1\")\n",
    "container"
   ]
  },
  {
   "cell_type": "markdown",
   "id": "cd171d80",
   "metadata": {},
   "source": [
    "## Challenge Lab\n",
    "\n",
    "**Instruction** Perform Automated Model Tuning with the Linear Learner Built-in Algorithm"
   ]
  },
  {
   "cell_type": "code",
   "execution_count": 19,
   "id": "188a1773",
   "metadata": {},
   "outputs": [],
   "source": [
    "from sagemaker.inputs import TrainingInput\n",
    "    \n",
    "s3_input_training = TrainingInput(train_s3_path, content_type=\"text/csv\")\n",
    "s3_input_validation = TrainingInput(val_s3_path, content_type=\"text/csv\")"
   ]
  },
  {
   "cell_type": "code",
   "execution_count": 20,
   "id": "4dfc0f03",
   "metadata": {},
   "outputs": [],
   "source": [
    "estimator = sagemaker.estimator.Estimator( \n",
    "            container,\n",
    "            role,\n",
    "            instance_count=1, \n",
    "            instance_type='ml.m5.large',  \n",
    "            sagemaker_session=session)"
   ]
  },
  {
   "cell_type": "code",
   "execution_count": 21,
   "id": "d5969a35",
   "metadata": {},
   "outputs": [],
   "source": [
    "estimator.set_hyperparameters(\n",
    "    predictor_type='regressor')"
   ]
  },
  {
   "cell_type": "code",
   "execution_count": 22,
   "id": "dd0ecf41",
   "metadata": {},
   "outputs": [],
   "source": [
    "hyperparameter_ranges = {\n",
    "    'mini_batch_size': tuner.IntegerParameter(1,4),\n",
    "    'learning_rate': tuner.ContinuousParameter(1e-5, 1)\n",
    "}"
   ]
  },
  {
   "cell_type": "code",
   "execution_count": 23,
   "id": "d366b4e3",
   "metadata": {},
   "outputs": [],
   "source": [
    "objective_metric_name = 'validation:objective_loss'"
   ]
  },
  {
   "cell_type": "code",
   "execution_count": 24,
   "id": "7d117507",
   "metadata": {},
   "outputs": [],
   "source": [
    "hyperparameter_tuner = tuner.HyperparameterTuner(\n",
    "    estimator,\n",
    "    objective_metric_name,\n",
    "    hyperparameter_ranges,\n",
    "    objective_type='Minimize',\n",
    "    max_jobs=6,\n",
    "    max_parallel_jobs=3)"
   ]
  },
  {
   "cell_type": "code",
   "execution_count": 25,
   "id": "2fad8b2a",
   "metadata": {},
   "outputs": [
    {
     "data": {
      "text/plain": [
       "{'estimator': <sagemaker.estimator.Estimator at 0x7f9fd553ddd8>,\n",
       " 'objective_metric_name': 'validation:objective_loss',\n",
       " '_hyperparameter_ranges': {'mini_batch_size': <sagemaker.parameter.IntegerParameter at 0x7f9fd5501d68>,\n",
       "  'learning_rate': <sagemaker.parameter.ContinuousParameter at 0x7f9fd5501dd8>},\n",
       " 'metric_definitions': None,\n",
       " 'estimator_dict': None,\n",
       " 'objective_metric_name_dict': None,\n",
       " '_hyperparameter_ranges_dict': None,\n",
       " 'metric_definitions_dict': None,\n",
       " 'static_hyperparameters_dict': None,\n",
       " 'strategy': 'Bayesian',\n",
       " 'objective_type': 'Minimize',\n",
       " 'max_jobs': 6,\n",
       " 'max_parallel_jobs': 3,\n",
       " 'tags': None,\n",
       " 'base_tuning_job_name': None,\n",
       " '_current_job_name': None,\n",
       " 'latest_tuning_job': None,\n",
       " 'warm_start_config': None,\n",
       " 'early_stopping_type': 'Off'}"
      ]
     },
     "execution_count": 25,
     "metadata": {},
     "output_type": "execute_result"
    }
   ],
   "source": [
    "hyperparameter_tuner.__dict__"
   ]
  },
  {
   "cell_type": "code",
   "execution_count": 26,
   "id": "f9ca1651",
   "metadata": {},
   "outputs": [],
   "source": [
    "hyperparameter_tuner.fit(\n",
    "    {'train': s3_input_training, 'validation': s3_input_validation},\n",
    "    include_cls_metadata=False,\n",
    "    wait=False\n",
    ")"
   ]
  },
  {
   "cell_type": "code",
   "execution_count": 27,
   "id": "5c71f4c0",
   "metadata": {},
   "outputs": [
    {
     "data": {
      "text/plain": [
       "'InProgress'"
      ]
     },
     "execution_count": 27,
     "metadata": {},
     "output_type": "execute_result"
    }
   ],
   "source": [
    "job_name = hyperparameter_tuner.latest_tuning_job.job_name\n",
    "\n",
    "response = client.describe_hyper_parameter_tuning_job(\n",
    "    HyperParameterTuningJobName=job_name\n",
    ")\n",
    "\n",
    "response['HyperParameterTuningJobStatus']"
   ]
  },
  {
   "cell_type": "code",
   "execution_count": 28,
   "id": "c8141e2b",
   "metadata": {},
   "outputs": [
    {
     "name": "stdout",
     "output_type": "stream",
     "text": [
      "{'CreationTime': datetime.datetime(2021, 5, 15, 6, 55, 3, 823000, tzinfo=tzlocal()),\n",
      " 'HyperParameterTuningJobArn': 'arn:aws:sagemaker:us-east-1:305262579855:hyper-parameter-tuning-job/linear-learner-210515-0655',\n",
      " 'HyperParameterTuningJobConfig': {'HyperParameterTuningJobObjective': {'MetricName': 'validation:objective_loss',\n",
      "                                                                        'Type': 'Minimize'},\n",
      "                                   'ParameterRanges': {'CategoricalParameterRanges': [],\n",
      "                                                       'ContinuousParameterRanges': [{'MaxValue': '1',\n",
      "                                                                                      'MinValue': '1e-05',\n",
      "                                                                                      'Name': 'learning_rate',\n",
      "                                                                                      'ScalingType': 'Auto'}],\n",
      "                                                       'IntegerParameterRanges': [{'MaxValue': '4',\n",
      "                                                                                   'MinValue': '1',\n",
      "                                                                                   'Name': 'mini_batch_size',\n",
      "                                                                                   'ScalingType': 'Auto'}]},\n",
      "                                   'ResourceLimits': {'MaxNumberOfTrainingJobs': 6,\n",
      "                                                      'MaxParallelTrainingJobs': 3},\n",
      "                                   'Strategy': 'Bayesian',\n",
      "                                   'TrainingJobEarlyStoppingType': 'Off'},\n",
      " 'HyperParameterTuningJobName': 'linear-learner-210515-0655',\n",
      " 'HyperParameterTuningJobStatus': 'InProgress',\n",
      " 'LastModifiedTime': datetime.datetime(2021, 5, 15, 6, 55, 3, 823000, tzinfo=tzlocal()),\n",
      " 'ObjectiveStatusCounters': {'Failed': 0, 'Pending': 0, 'Succeeded': 0},\n",
      " 'ResponseMetadata': {'HTTPHeaders': {'content-length': '6584',\n",
      "                                      'content-type': 'application/x-amz-json-1.1',\n",
      "                                      'date': 'Sat, 15 May 2021 06:55:03 GMT',\n",
      "                                      'x-amzn-requestid': '652f5b77-2f99-4425-8282-6381aa1e06c0'},\n",
      "                      'HTTPStatusCode': 200,\n",
      "                      'RequestId': '652f5b77-2f99-4425-8282-6381aa1e06c0',\n",
      "                      'RetryAttempts': 0},\n",
      " 'TrainingJobDefinition': {'AlgorithmSpecification': {'MetricDefinitions': [{'Name': 'test:dcg',\n",
      "                                                                             'Regex': '#quality_metric: '\n",
      "                                                                                      'host=\\\\S+, '\n",
      "                                                                                      'test '\n",
      "                                                                                      'dcg '\n",
      "                                                                                      '<score>=(\\\\S+)'},\n",
      "                                                                            {'Name': 'train:progress',\n",
      "                                                                             'Regex': '#progress_metric: '\n",
      "                                                                                      'host=\\\\S+, '\n",
      "                                                                                      'completed '\n",
      "                                                                                      '(\\\\S+) '\n",
      "                                                                                      '%'},\n",
      "                                                                            {'Name': 'test:binary_f_beta',\n",
      "                                                                             'Regex': '#quality_metric: '\n",
      "                                                                                      'host=\\\\S+, '\n",
      "                                                                                      'test '\n",
      "                                                                                      'binary_f_\\\\S+ '\n",
      "                                                                                      '<score>=(\\\\S+)'},\n",
      "                                                                            {'Name': 'train:objective_loss',\n",
      "                                                                             'Regex': '#quality_metric: '\n",
      "                                                                                      'host=\\\\S+, '\n",
      "                                                                                      'epoch=\\\\S+, '\n",
      "                                                                                      'train '\n",
      "                                                                                      '\\\\S+_objective '\n",
      "                                                                                      '<loss>=(\\\\S+)'},\n",
      "                                                                            {'Name': 'validation:macro_precision',\n",
      "                                                                             'Regex': '#quality_metric: '\n",
      "                                                                                      'host=\\\\S+, '\n",
      "                                                                                      'validation '\n",
      "                                                                                      'macro_precision '\n",
      "                                                                                      '<score>=(\\\\S+)'},\n",
      "                                                                            {'Name': 'validation:dcg',\n",
      "                                                                             'Regex': '#quality_metric: '\n",
      "                                                                                      'host=\\\\S+, '\n",
      "                                                                                      'validation '\n",
      "                                                                                      'dcg '\n",
      "                                                                                      '<score>=(\\\\S+)'},\n",
      "                                                                            {'Name': 'test:mse',\n",
      "                                                                             'Regex': '#quality_metric: '\n",
      "                                                                                      'host=\\\\S+, '\n",
      "                                                                                      'test '\n",
      "                                                                                      'mse '\n",
      "                                                                                      '<loss>=(\\\\S+)'},\n",
      "                                                                            {'Name': 'validation:binary_f_beta',\n",
      "                                                                             'Regex': '#quality_metric: '\n",
      "                                                                                      'host=\\\\S+, '\n",
      "                                                                                      'validation '\n",
      "                                                                                      'binary_f_\\\\S+ '\n",
      "                                                                                      '<score>=(\\\\S+)'},\n",
      "                                                                            {'Name': 'validation:objective_loss',\n",
      "                                                                             'Regex': '#quality_metric: '\n",
      "                                                                                      'host=\\\\S+, '\n",
      "                                                                                      'epoch=\\\\S+, '\n",
      "                                                                                      'validation '\n",
      "                                                                                      '\\\\S+_objective '\n",
      "                                                                                      '<loss>=(\\\\S+)'},\n",
      "                                                                            {'Name': 'validation:objective_loss:final',\n",
      "                                                                             'Regex': '#quality_metric: '\n",
      "                                                                                      'host=\\\\S+, '\n",
      "                                                                                      'validation '\n",
      "                                                                                      '\\\\S+_objective '\n",
      "                                                                                      '<loss>=(\\\\S+)'},\n",
      "                                                                            {'Name': 'test:macro_recall',\n",
      "                                                                             'Regex': '#quality_metric: '\n",
      "                                                                                      'host=\\\\S+, '\n",
      "                                                                                      'test '\n",
      "                                                                                      'macro_recall '\n",
      "                                                                                      '<score>=(\\\\S+)'},\n",
      "                                                                            {'Name': 'test:absolute_loss',\n",
      "                                                                             'Regex': '#quality_metric: '\n",
      "                                                                                      'host=\\\\S+, '\n",
      "                                                                                      'test '\n",
      "                                                                                      'absolute_loss '\n",
      "                                                                                      '<loss>=(\\\\S+)'},\n",
      "                                                                            {'Name': 'train:recall',\n",
      "                                                                             'Regex': '#quality_metric: '\n",
      "                                                                                      'host=\\\\S+, '\n",
      "                                                                                      'train '\n",
      "                                                                                      'recall '\n",
      "                                                                                      '<score>=(\\\\S+)'},\n",
      "                                                                            {'Name': 'train:mse',\n",
      "                                                                             'Regex': '#quality_metric: '\n",
      "                                                                                      'host=\\\\S+, '\n",
      "                                                                                      'train '\n",
      "                                                                                      'mse '\n",
      "                                                                                      '<loss>=(\\\\S+)'},\n",
      "                                                                            {'Name': 'validation:roc_auc_score',\n",
      "                                                                             'Regex': '#quality_metric: '\n",
      "                                                                                      'host=\\\\S+, '\n",
      "                                                                                      'validation '\n",
      "                                                                                      'roc_auc_score '\n",
      "                                                                                      '<score>=(\\\\S+)'},\n",
      "                                                                            {'Name': 'train:precision',\n",
      "                                                                             'Regex': '#quality_metric: '\n",
      "                                                                                      'host=\\\\S+, '\n",
      "                                                                                      'train '\n",
      "                                                                                      'precision '\n",
      "                                                                                      '<score>=(\\\\S+)'},\n",
      "                                                                            {'Name': 'train:objective_loss:final',\n",
      "                                                                             'Regex': '#quality_metric: '\n",
      "                                                                                      'host=\\\\S+, '\n",
      "                                                                                      'train '\n",
      "                                                                                      '\\\\S+_objective '\n",
      "                                                                                      '<loss>=(\\\\S+)'},\n",
      "                                                                            {'Name': 'validation:recall',\n",
      "                                                                             'Regex': '#quality_metric: '\n",
      "                                                                                      'host=\\\\S+, '\n",
      "                                                                                      'validation '\n",
      "                                                                                      'recall '\n",
      "                                                                                      '<score>=(\\\\S+)'},\n",
      "                                                                            {'Name': 'test:multiclass_accuracy',\n",
      "                                                                             'Regex': '#quality_metric: '\n",
      "                                                                                      'host=\\\\S+, '\n",
      "                                                                                      'test '\n",
      "                                                                                      'multiclass_accuracy '\n",
      "                                                                                      '<score>=(\\\\S+)'},\n",
      "                                                                            {'Name': 'validation:precision',\n",
      "                                                                             'Regex': '#quality_metric: '\n",
      "                                                                                      'host=\\\\S+, '\n",
      "                                                                                      'validation '\n",
      "                                                                                      'precision '\n",
      "                                                                                      '<score>=(\\\\S+)'},\n",
      "                                                                            {'Name': 'validation:multiclass_accuracy',\n",
      "                                                                             'Regex': '#quality_metric: '\n",
      "                                                                                      'host=\\\\S+, '\n",
      "                                                                                      'validation '\n",
      "                                                                                      'multiclass_accuracy '\n",
      "                                                                                      '<score>=(\\\\S+)'},\n",
      "                                                                            {'Name': 'train:binary_f_beta',\n",
      "                                                                             'Regex': '#quality_metric: '\n",
      "                                                                                      'host=\\\\S+, '\n",
      "                                                                                      'train '\n",
      "                                                                                      'binary_f_\\\\S+ '\n",
      "                                                                                      '<score>=(\\\\S+)'},\n",
      "                                                                            {'Name': 'test:recall',\n",
      "                                                                             'Regex': '#quality_metric: '\n",
      "                                                                                      'host=\\\\S+, '\n",
      "                                                                                      'test '\n",
      "                                                                                      'recall '\n",
      "                                                                                      '<score>=(\\\\S+)'},\n",
      "                                                                            {'Name': 'test:macro_precision',\n",
      "                                                                             'Regex': '#quality_metric: '\n",
      "                                                                                      'host=\\\\S+, '\n",
      "                                                                                      'test '\n",
      "                                                                                      'macro_precision '\n",
      "                                                                                      '<score>=(\\\\S+)'},\n",
      "                                                                            {'Name': 'test:macro_f_beta',\n",
      "                                                                             'Regex': '#quality_metric: '\n",
      "                                                                                      'host=\\\\S+, '\n",
      "                                                                                      'test '\n",
      "                                                                                      'macro_f_\\\\S+ '\n",
      "                                                                                      '<score>=(\\\\S+)'},\n",
      "                                                                            {'Name': 'test:objective_loss',\n",
      "                                                                             'Regex': '#quality_metric: '\n",
      "                                                                                      'host=\\\\S+, '\n",
      "                                                                                      'test '\n",
      "                                                                                      '\\\\S+_objective '\n",
      "                                                                                      '<loss>=(\\\\S+)'},\n",
      "                                                                            {'Name': 'test:precision',\n",
      "                                                                             'Regex': '#quality_metric: '\n",
      "                                                                                      'host=\\\\S+, '\n",
      "                                                                                      'test '\n",
      "                                                                                      'precision '\n",
      "                                                                                      '<score>=(\\\\S+)'},\n",
      "                                                                            {'Name': 'validation:multiclass_top_k_accuracy',\n",
      "                                                                             'Regex': '#quality_metric: '\n",
      "                                                                                      'host=\\\\S+, '\n",
      "                                                                                      'validation '\n",
      "                                                                                      'multiclass_top_k_accuracy_\\\\S+ '\n",
      "                                                                                      '<score>=(\\\\S+)'},\n",
      "                                                                            {'Name': 'train:binary_classification_accuracy',\n",
      "                                                                             'Regex': '#quality_metric: '\n",
      "                                                                                      'host=\\\\S+, '\n",
      "                                                                                      'train '\n",
      "                                                                                      'binary_classification_accuracy '\n",
      "                                                                                      '<score>=(\\\\S+)'},\n",
      "                                                                            {'Name': 'validation:mse',\n",
      "                                                                             'Regex': '#quality_metric: '\n",
      "                                                                                      'host=\\\\S+, '\n",
      "                                                                                      'validation '\n",
      "                                                                                      'mse '\n",
      "                                                                                      '<loss>=(\\\\S+)'},\n",
      "                                                                            {'Name': 'test:multiclass_top_k_accuracy',\n",
      "                                                                             'Regex': '#quality_metric: '\n",
      "                                                                                      'host=\\\\S+, '\n",
      "                                                                                      'test '\n",
      "                                                                                      'multiclass_top_k_accuracy_\\\\S+ '\n",
      "                                                                                      '<score>=(\\\\S+)'},\n",
      "                                                                            {'Name': 'validation:binary_classification_accuracy',\n",
      "                                                                             'Regex': '#quality_metric: '\n",
      "                                                                                      'host=\\\\S+, '\n",
      "                                                                                      'validation '\n",
      "                                                                                      'binary_classification_accuracy '\n",
      "                                                                                      '<score>=(\\\\S+)'},\n",
      "                                                                            {'Name': 'train:absolute_loss',\n",
      "                                                                             'Regex': '#quality_metric: '\n",
      "                                                                                      'host=\\\\S+, '\n",
      "                                                                                      'train '\n",
      "                                                                                      'absolute_loss '\n",
      "                                                                                      '<loss>=(\\\\S+)'},\n",
      "                                                                            {'Name': 'validation:macro_recall',\n",
      "                                                                             'Regex': '#quality_metric: '\n",
      "                                                                                      'host=\\\\S+, '\n",
      "                                                                                      'validation '\n",
      "                                                                                      'macro_recall '\n",
      "                                                                                      '<score>=(\\\\S+)'},\n",
      "                                                                            {'Name': 'train:throughput',\n",
      "                                                                             'Regex': '#throughput_metric: '\n",
      "                                                                                      'host=\\\\S+, '\n",
      "                                                                                      'train '\n",
      "                                                                                      'throughput=(\\\\S+) '\n",
      "                                                                                      'records/second'},\n",
      "                                                                            {'Name': 'test:binary_classification_accuracy',\n",
      "                                                                             'Regex': '#quality_metric: '\n",
      "                                                                                      'host=\\\\S+, '\n",
      "                                                                                      'test '\n",
      "                                                                                      'binary_classification_accuracy '\n",
      "                                                                                      '<score>=(\\\\S+)'},\n",
      "                                                                            {'Name': 'validation:absolute_loss',\n",
      "                                                                             'Regex': '#quality_metric: '\n",
      "                                                                                      'host=\\\\S+, '\n",
      "                                                                                      'validation '\n",
      "                                                                                      'absolute_loss '\n",
      "                                                                                      '<loss>=(\\\\S+)'},\n",
      "                                                                            {'Name': 'validation:macro_f_beta',\n",
      "                                                                             'Regex': '#quality_metric: '\n",
      "                                                                                      'host=\\\\S+, '\n",
      "                                                                                      'validation '\n",
      "                                                                                      'macro_f_\\\\S+ '\n",
      "                                                                                      '<score>=(\\\\S+)'},\n",
      "                                                                            {'Name': 'test:roc_auc_score',\n",
      "                                                                             'Regex': '#quality_metric: '\n",
      "                                                                                      'host=\\\\S+, '\n",
      "                                                                                      'test '\n",
      "                                                                                      'roc_auc_score '\n",
      "                                                                                      '<score>=(\\\\S+)'},\n",
      "                                                                            {'Name': 'ObjectiveMetric',\n",
      "                                                                             'Regex': '#quality_metric: '\n",
      "                                                                                      'host=\\\\S+, '\n",
      "                                                                                      'epoch=\\\\S+, '\n",
      "                                                                                      'validation '\n",
      "                                                                                      '\\\\S+_objective '\n",
      "                                                                                      '<loss>=(\\\\S+)'}],\n",
      "                                                      'TrainingImage': '382416733822.dkr.ecr.us-east-1.amazonaws.com/linear-learner:1',\n",
      "                                                      'TrainingInputMode': 'File'},\n",
      "                           'EnableInterContainerTrafficEncryption': False,\n",
      "                           'EnableManagedSpotTraining': False,\n",
      "                           'EnableNetworkIsolation': False,\n",
      "                           'InputDataConfig': [{'ChannelName': 'train',\n",
      "                                                'ContentType': 'text/csv',\n",
      "                                                'DataSource': {'S3DataSource': {'S3DataDistributionType': 'FullyReplicated',\n",
      "                                                                                'S3DataType': 'S3Prefix',\n",
      "                                                                                'S3Uri': 's3://sagemaker-us-east-1-305262579855/data/002.train.csv'}}},\n",
      "                                               {'ChannelName': 'validation',\n",
      "                                                'ContentType': 'text/csv',\n",
      "                                                'DataSource': {'S3DataSource': {'S3DataDistributionType': 'FullyReplicated',\n",
      "                                                                                'S3DataType': 'S3Prefix',\n",
      "                                                                                'S3Uri': 's3://sagemaker-us-east-1-305262579855/data/002.val.csv'}}}],\n",
      "                           'OutputDataConfig': {'S3OutputPath': 's3://sagemaker-us-east-1-305262579855/'},\n",
      "                           'ResourceConfig': {'InstanceCount': 1,\n",
      "                                              'InstanceType': 'ml.m5.large',\n",
      "                                              'VolumeSizeInGB': 30},\n",
      "                           'RoleArn': 'arn:aws:iam::305262579855:role/service-role/AmazonSageMaker-ExecutionRole-20210507T101941',\n",
      "                           'StaticHyperParameters': {'_tuning_objective_metric': 'validation:objective_loss',\n",
      "                                                     'predictor_type': 'regressor'},\n",
      "                           'StoppingCondition': {'MaxRuntimeInSeconds': 86400}},\n",
      " 'TrainingJobStatusCounters': {'Completed': 0,\n",
      "                               'InProgress': 0,\n",
      "                               'NonRetryableError': 0,\n",
      "                               'RetryableError': 0,\n",
      "                               'Stopped': 0}}\n"
     ]
    }
   ],
   "source": [
    "from pprint import pprint\n",
    "\n",
    "pprint(response)"
   ]
  },
  {
   "cell_type": "code",
   "execution_count": 29,
   "id": "3bab99ef",
   "metadata": {},
   "outputs": [
    {
     "name": "stdout",
     "output_type": "stream",
     "text": [
      "Stored 'tuning_job_name_linear' (str)\n"
     ]
    },
    {
     "data": {
      "text/plain": [
       "'linear-learner-210515-0655'"
      ]
     },
     "execution_count": 29,
     "metadata": {},
     "output_type": "execute_result"
    }
   ],
   "source": [
    "tuning_job_name_linear = response['HyperParameterTuningJobName']\n",
    "%store tuning_job_name_linear\n",
    "\n",
    "tuning_job_name_linear"
   ]
  },
  {
   "cell_type": "code",
   "execution_count": 30,
   "id": "95c03ad8",
   "metadata": {},
   "outputs": [
    {
     "name": "stdout",
     "output_type": "stream",
     "text": [
      "InProgress\n",
      "InProgress\n",
      "InProgress\n",
      "InProgress\n",
      "InProgress\n",
      "InProgress\n",
      "InProgress\n",
      "InProgress\n",
      "InProgress\n",
      "Completed\n"
     ]
    }
   ],
   "source": [
    "from time import sleep\n",
    "\n",
    "while response['HyperParameterTuningJobStatus'] == 'InProgress':\n",
    "    response = client.describe_hyper_parameter_tuning_job(\n",
    "        HyperParameterTuningJobName=job_name\n",
    "    )\n",
    "\n",
    "    print(response['HyperParameterTuningJobStatus'])\n",
    "    sleep(60)"
   ]
  }
 ],
 "metadata": {
  "kernelspec": {
   "display_name": "conda_python3",
   "language": "python",
   "name": "conda_python3"
  },
  "language_info": {
   "codemirror_mode": {
    "name": "ipython",
    "version": 3
   },
   "file_extension": ".py",
   "mimetype": "text/x-python",
   "name": "python",
   "nbconvert_exporter": "python",
   "pygments_lexer": "ipython3",
   "version": "3.6.13"
  }
 },
 "nbformat": 4,
 "nbformat_minor": 5
}
