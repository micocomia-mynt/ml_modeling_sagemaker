{
 "cells": [
  {
   "cell_type": "markdown",
   "id": "cc3fb802",
   "metadata": {},
   "source": [
    "### Loading and Inspecting the Data"
   ]
  },
  {
   "cell_type": "code",
   "execution_count": 1,
   "id": "25fb54de",
   "metadata": {},
   "outputs": [],
   "source": [
    "import pandas as pd\n",
    "filename = \"files/001.csv\"\n",
    "df_all_data = pd.read_csv(filename)"
   ]
  },
  {
   "cell_type": "code",
   "execution_count": 2,
   "id": "a3642f65",
   "metadata": {},
   "outputs": [
    {
     "data": {
      "text/html": [
       "<div>\n",
       "<style scoped>\n",
       "    .dataframe tbody tr th:only-of-type {\n",
       "        vertical-align: middle;\n",
       "    }\n",
       "\n",
       "    .dataframe tbody tr th {\n",
       "        vertical-align: top;\n",
       "    }\n",
       "\n",
       "    .dataframe thead th {\n",
       "        text-align: right;\n",
       "    }\n",
       "</style>\n",
       "<table border=\"1\" class=\"dataframe\">\n",
       "  <thead>\n",
       "    <tr style=\"text-align: right;\">\n",
       "      <th></th>\n",
       "      <th>property</th>\n",
       "      <th>floors</th>\n",
       "      <th>price</th>\n",
       "    </tr>\n",
       "  </thead>\n",
       "  <tbody>\n",
       "    <tr>\n",
       "      <th>0</th>\n",
       "      <td>a</td>\n",
       "      <td>3</td>\n",
       "      <td>1000</td>\n",
       "    </tr>\n",
       "    <tr>\n",
       "      <th>1</th>\n",
       "      <td>b</td>\n",
       "      <td>4</td>\n",
       "      <td>1500</td>\n",
       "    </tr>\n",
       "    <tr>\n",
       "      <th>2</th>\n",
       "      <td>c</td>\n",
       "      <td>6</td>\n",
       "      <td>3000</td>\n",
       "    </tr>\n",
       "    <tr>\n",
       "      <th>3</th>\n",
       "      <td>d</td>\n",
       "      <td>8</td>\n",
       "      <td>3200</td>\n",
       "    </tr>\n",
       "    <tr>\n",
       "      <th>4</th>\n",
       "      <td>e</td>\n",
       "      <td>2</td>\n",
       "      <td>1200</td>\n",
       "    </tr>\n",
       "    <tr>\n",
       "      <th>5</th>\n",
       "      <td>f</td>\n",
       "      <td>9</td>\n",
       "      <td>4000</td>\n",
       "    </tr>\n",
       "    <tr>\n",
       "      <th>6</th>\n",
       "      <td>g</td>\n",
       "      <td>10</td>\n",
       "      <td>4200</td>\n",
       "    </tr>\n",
       "    <tr>\n",
       "      <th>7</th>\n",
       "      <td>h</td>\n",
       "      <td>11</td>\n",
       "      <td>5000</td>\n",
       "    </tr>\n",
       "    <tr>\n",
       "      <th>8</th>\n",
       "      <td>i</td>\n",
       "      <td>12</td>\n",
       "      <td>5500</td>\n",
       "    </tr>\n",
       "    <tr>\n",
       "      <th>9</th>\n",
       "      <td>j</td>\n",
       "      <td>15</td>\n",
       "      <td>7000</td>\n",
       "    </tr>\n",
       "    <tr>\n",
       "      <th>10</th>\n",
       "      <td>k</td>\n",
       "      <td>16</td>\n",
       "      <td>8000</td>\n",
       "    </tr>\n",
       "    <tr>\n",
       "      <th>11</th>\n",
       "      <td>l</td>\n",
       "      <td>5</td>\n",
       "      <td>1800</td>\n",
       "    </tr>\n",
       "    <tr>\n",
       "      <th>12</th>\n",
       "      <td>m</td>\n",
       "      <td>8</td>\n",
       "      <td>2800</td>\n",
       "    </tr>\n",
       "    <tr>\n",
       "      <th>13</th>\n",
       "      <td>n</td>\n",
       "      <td>10</td>\n",
       "      <td>4400</td>\n",
       "    </tr>\n",
       "    <tr>\n",
       "      <th>14</th>\n",
       "      <td>o</td>\n",
       "      <td>11</td>\n",
       "      <td>4500</td>\n",
       "    </tr>\n",
       "    <tr>\n",
       "      <th>15</th>\n",
       "      <td>p</td>\n",
       "      <td>12</td>\n",
       "      <td>4800</td>\n",
       "    </tr>\n",
       "    <tr>\n",
       "      <th>16</th>\n",
       "      <td>q</td>\n",
       "      <td>1</td>\n",
       "      <td>500</td>\n",
       "    </tr>\n",
       "    <tr>\n",
       "      <th>17</th>\n",
       "      <td>r</td>\n",
       "      <td>2</td>\n",
       "      <td>800</td>\n",
       "    </tr>\n",
       "    <tr>\n",
       "      <th>18</th>\n",
       "      <td>s</td>\n",
       "      <td>5</td>\n",
       "      <td>1800</td>\n",
       "    </tr>\n",
       "    <tr>\n",
       "      <th>19</th>\n",
       "      <td>t</td>\n",
       "      <td>6</td>\n",
       "      <td>2900</td>\n",
       "    </tr>\n",
       "  </tbody>\n",
       "</table>\n",
       "</div>"
      ],
      "text/plain": [
       "   property  floors  price\n",
       "0         a       3   1000\n",
       "1         b       4   1500\n",
       "2         c       6   3000\n",
       "3         d       8   3200\n",
       "4         e       2   1200\n",
       "5         f       9   4000\n",
       "6         g      10   4200\n",
       "7         h      11   5000\n",
       "8         i      12   5500\n",
       "9         j      15   7000\n",
       "10        k      16   8000\n",
       "11        l       5   1800\n",
       "12        m       8   2800\n",
       "13        n      10   4400\n",
       "14        o      11   4500\n",
       "15        p      12   4800\n",
       "16        q       1    500\n",
       "17        r       2    800\n",
       "18        s       5   1800\n",
       "19        t       6   2900"
      ]
     },
     "execution_count": 2,
     "metadata": {},
     "output_type": "execute_result"
    }
   ],
   "source": [
    "df_all_data"
   ]
  },
  {
   "cell_type": "code",
   "execution_count": 3,
   "id": "5222cf57",
   "metadata": {},
   "outputs": [],
   "source": [
    "%matplotlib inline\n",
    "import matplotlib.pyplot as plt"
   ]
  },
  {
   "cell_type": "code",
   "execution_count": 4,
   "id": "d0cdcd71",
   "metadata": {},
   "outputs": [
    {
     "data": {
      "text/plain": [
       "Text(0, 0.5, 'price (USD)')"
      ]
     },
     "execution_count": 4,
     "metadata": {},
     "output_type": "execute_result"
    },
    {
     "data": {
      "image/png": "[encoded data removed]",
      "text/plain": [
       "<Figure size 576x576 with 1 Axes>"
      ]
     },
     "metadata": {
      "needs_background": "light"
     },
     "output_type": "display_data"
    }
   ],
   "source": [
    "plt.rcParams[\"figure.figsize\"] = (8,8) \n",
    "plt.scatter(df_all_data.floors, df_all_data.price)\n",
    "plt.xlabel('floors', fontsize=18) \n",
    "plt.ylabel('price (USD)', fontsize=16) "
   ]
  },
  {
   "cell_type": "markdown",
   "id": "8e09190d",
   "metadata": {},
   "source": [
    "### Performing the train-test split"
   ]
  },
  {
   "cell_type": "code",
   "execution_count": 5,
   "id": "70aa9edb",
   "metadata": {},
   "outputs": [],
   "source": [
    "from sklearn.model_selection import train_test_split\n",
    "\n",
    "X = df_all_data['floors'].values \n",
    "y = df_all_data['price'].values\n",
    "X_train, X_test, y_train, y_test = train_test_split(X, y, test_size=0.3, random_state=0)"
   ]
  },
  {
   "cell_type": "code",
   "execution_count": 6,
   "id": "35c5067d",
   "metadata": {},
   "outputs": [
    {
     "data": {
      "text/plain": [
       "array([10, 10,  2,  6,  9, 11, 15, 11,  1,  5,  8,  3, 12,  8])"
      ]
     },
     "execution_count": 6,
     "metadata": {},
     "output_type": "execute_result"
    }
   ],
   "source": [
    "X_train"
   ]
  },
  {
   "cell_type": "code",
   "execution_count": 7,
   "id": "c6c45701",
   "metadata": {},
   "outputs": [
    {
     "data": {
      "text/plain": [
       "array([4200, 4400, 1200, 3000, 4000, 4500, 7000, 5000,  500, 1800, 3200,\n",
       "       1000, 4800, 2800])"
      ]
     },
     "execution_count": 7,
     "metadata": {},
     "output_type": "execute_result"
    }
   ],
   "source": [
    "y_train"
   ]
  },
  {
   "cell_type": "code",
   "execution_count": 8,
   "id": "0658fef7",
   "metadata": {},
   "outputs": [
    {
     "data": {
      "text/plain": [
       "array([ 5,  4,  6, 12, 16,  2])"
      ]
     },
     "execution_count": 8,
     "metadata": {},
     "output_type": "execute_result"
    }
   ],
   "source": [
    "X_test"
   ]
  },
  {
   "cell_type": "code",
   "execution_count": 9,
   "id": "8f538598",
   "metadata": {},
   "outputs": [
    {
     "data": {
      "text/plain": [
       "array([1800, 1500, 2900, 5500, 8000,  800])"
      ]
     },
     "execution_count": 9,
     "metadata": {},
     "output_type": "execute_result"
    }
   ],
   "source": [
    "y_test"
   ]
  },
  {
   "cell_type": "markdown",
   "id": "847b5641",
   "metadata": {},
   "source": [
    "### Training and Deploying a KNN model"
   ]
  },
  {
   "cell_type": "code",
   "execution_count": 10,
   "id": "91d8f1bb",
   "metadata": {},
   "outputs": [],
   "source": [
    "import sagemaker\n",
    "from sagemaker import get_execution_role\n",
    "\n",
    "session = sagemaker.Session()\n",
    "role = get_execution_role()\n",
    "bucket = session.default_bucket()"
   ]
  },
  {
   "cell_type": "code",
   "execution_count": 11,
   "id": "a790a76f",
   "metadata": {},
   "outputs": [],
   "source": [
    "from sagemaker import KNN\n",
    "\n",
    "estimator = KNN(role=role,\n",
    "                instance_count=1,\n",
    "                instance_type='ml.m5.xlarge',\n",
    "                sample_size=10,\n",
    "                k=3,\n",
    "                feature_dim=1,\n",
    "                predictor_type=\"regressor\")"
   ]
  },
  {
   "cell_type": "code",
   "execution_count": 12,
   "id": "c07e3672",
   "metadata": {},
   "outputs": [],
   "source": [
    "record_set = estimator.record_set(train=X_train.reshape(-1,1).astype('float32'), labels=y_train.astype('float32'))"
   ]
  },
  {
   "cell_type": "code",
   "execution_count": 13,
   "id": "e660da9d",
   "metadata": {},
   "outputs": [
    {
     "name": "stderr",
     "output_type": "stream",
     "text": [
      "Defaulting to the only supported framework/algorithm version: 1. Ignoring framework/algorithm version: 1.\n",
      "Defaulting to the only supported framework/algorithm version: 1. Ignoring framework/algorithm version: 1.\n"
     ]
    },
    {
     "name": "stdout",
     "output_type": "stream",
     "text": [
      "2021-05-08 06:25:26 Starting - Starting the training job...\n",
      "2021-05-08 06:25:48 Starting - Launching requested ML instancesProfilerReport-1620455125: InProgress\n",
      "......\n",
      "2021-05-08 06:26:49 Starting - Preparing the instances for training......\n",
      "2021-05-08 06:27:49 Downloading - Downloading input data\n",
      "2021-05-08 06:27:49 Training - Downloading the training image.........\n",
      "2021-05-08 06:29:25 Uploading - Uploading generated training model\u001b[34mDocker entrypoint called with argument(s): train\u001b[0m\n",
      "\u001b[34mRunning default environment configuration script\u001b[0m\n",
      "\u001b[34m[05/08/2021 06:29:14 INFO 140507616921408] Reading default configuration from /opt/amazon/lib/python3.7/site-packages/algorithm/resources/default-conf.json: {'_kvstore': 'dist_async', '_log_level': 'info', '_num_gpus': 'auto', '_num_kv_servers': '1', '_tuning_objective_metric': '', '_faiss_index_nprobe': '5', 'epochs': '1', 'feature_dim': 'auto', 'faiss_index_ivf_nlists': 'auto', 'index_metric': 'L2', 'index_type': 'faiss.Flat', 'mini_batch_size': '5000', '_enable_profiler': 'false'}\u001b[0m\n",
      "\u001b[34m[05/08/2021 06:29:14 INFO 140507616921408] Merging with provided configuration from /opt/ml/input/config/hyperparameters.json: {'feature_dim': '1', 'predictor_type': 'regressor', 'sample_size': '10', 'k': '3'}\u001b[0m\n",
      "\u001b[34m[05/08/2021 06:29:14 INFO 140507616921408] Final configuration: {'_kvstore': 'dist_async', '_log_level': 'info', '_num_gpus': 'auto', '_num_kv_servers': '1', '_tuning_objective_metric': '', '_faiss_index_nprobe': '5', 'epochs': '1', 'feature_dim': '1', 'faiss_index_ivf_nlists': 'auto', 'index_metric': 'L2', 'index_type': 'faiss.Flat', 'mini_batch_size': '5000', '_enable_profiler': 'false', 'predictor_type': 'regressor', 'sample_size': '10', 'k': '3'}\u001b[0m\n",
      "\u001b[34m[05/08/2021 06:29:19 WARNING 140507616921408] Loggers have already been setup.\u001b[0m\n",
      "\u001b[34m[05/08/2021 06:29:19 INFO 140507616921408] Final configuration: {'_kvstore': 'dist_async', '_log_level': 'info', '_num_gpus': 'auto', '_num_kv_servers': '1', '_tuning_objective_metric': '', '_faiss_index_nprobe': '5', 'epochs': '1', 'feature_dim': '1', 'faiss_index_ivf_nlists': 'auto', 'index_metric': 'L2', 'index_type': 'faiss.Flat', 'mini_batch_size': '5000', '_enable_profiler': 'false', 'predictor_type': 'regressor', 'sample_size': '10', 'k': '3'}\u001b[0m\n",
      "\u001b[34m[05/08/2021 06:29:19 WARNING 140507616921408] Loggers have already been setup.\u001b[0m\n",
      "\u001b[34m[05/08/2021 06:29:19 INFO 140507616921408] Launching parameter server for role scheduler\u001b[0m\n",
      "\u001b[34m[05/08/2021 06:29:19 INFO 140507616921408] {'ENVROOT': '/opt/amazon', 'PROTOCOL_BUFFERS_PYTHON_IMPLEMENTATION': 'cpp', 'HOSTNAME': 'ip-10-0-187-147.ec2.internal', 'TRAINING_JOB_NAME': 'knn-2021-05-08-06-25-25-802', 'NVIDIA_REQUIRE_CUDA': 'cuda>=9.0', 'TRAINING_JOB_ARN': 'arn:aws:sagemaker:us-east-1:305262579855:training-job/knn-2021-05-08-06-25-25-802', 'AWS_CONTAINER_CREDENTIALS_RELATIVE_URI': '/v2/credentials/3f1a06c9-2ab4-4877-9567-61746fd06f41', 'CANONICAL_ENVROOT': '/opt/amazon', 'PYTHONUNBUFFERED': 'TRUE', 'NVIDIA_VISIBLE_DEVICES': 'void', 'LD_LIBRARY_PATH': '/opt/amazon/lib/python3.7/site-packages/cv2/../../../../lib:/usr/local/nvidia/lib64:/opt/amazon/lib', 'NVIDIA_DRIVER_CAPABILITIES': 'compute,utility', 'AWS_EXECUTION_ENV': 'AWS_ECS_EC2', 'PATH': '/opt/amazon/bin:/usr/local/nvidia/bin:/usr/local/sbin:/usr/local/bin:/usr/sbin:/usr/bin:/sbin:/bin:/opt/amazon/bin:/opt/amazon/bin', 'PWD': '/', 'LANG': 'en_US.utf8', 'SAGEMAKER_METRICS_DIRECTORY': '/opt/ml/output/metrics/sagemaker', 'AWS_REGION': 'us-east-1', 'HOME': '/root', 'SHLVL': '1', 'PROTOCOL_BUFFERS_PYTHON_IMPLEMENTATION_VERSION': '2', 'OMP_NUM_THREADS': '2', 'ECS_CONTAINER_METADATA_URI': 'http://169.254.170.2/v3/82f8f911-c33c-4569-bfad-fded9bc044e1', 'DMLC_INTERFACE': 'eth0', 'ECS_CONTAINER_METADATA_URI_V4': 'http://169.254.170.2/v4/82f8f911-c33c-4569-bfad-fded9bc044e1', 'SAGEMAKER_HTTP_PORT': '8080', 'SAGEMAKER_DATA_PATH': '/opt/ml'}\u001b[0m\n",
      "\u001b[34m[05/08/2021 06:29:19 INFO 140507616921408] envs={'ENVROOT': '/opt/amazon', 'PROTOCOL_BUFFERS_PYTHON_IMPLEMENTATION': 'cpp', 'HOSTNAME': 'ip-10-0-187-147.ec2.internal', 'TRAINING_JOB_NAME': 'knn-2021-05-08-06-25-25-802', 'NVIDIA_REQUIRE_CUDA': 'cuda>=9.0', 'TRAINING_JOB_ARN': 'arn:aws:sagemaker:us-east-1:305262579855:training-job/knn-2021-05-08-06-25-25-802', 'AWS_CONTAINER_CREDENTIALS_RELATIVE_URI': '/v2/credentials/3f1a06c9-2ab4-4877-9567-61746fd06f41', 'CANONICAL_ENVROOT': '/opt/amazon', 'PYTHONUNBUFFERED': 'TRUE', 'NVIDIA_VISIBLE_DEVICES': 'void', 'LD_LIBRARY_PATH': '/opt/amazon/lib/python3.7/site-packages/cv2/../../../../lib:/usr/local/nvidia/lib64:/opt/amazon/lib', 'NVIDIA_DRIVER_CAPABILITIES': 'compute,utility', 'AWS_EXECUTION_ENV': 'AWS_ECS_EC2', 'PATH': '/opt/amazon/bin:/usr/local/nvidia/bin:/usr/local/sbin:/usr/local/bin:/usr/sbin:/usr/bin:/sbin:/bin:/opt/amazon/bin:/opt/amazon/bin', 'PWD': '/', 'LANG': 'en_US.utf8', 'SAGEMAKER_METRICS_DIRECTORY': '/opt/ml/output/metrics/sagemaker', 'AWS_REGION': 'us-east-1', 'HOME': '/root', 'SHLVL': '1', 'PROTOCOL_BUFFERS_PYTHON_IMPLEMENTATION_VERSION': '2', 'OMP_NUM_THREADS': '2', 'ECS_CONTAINER_METADATA_URI': 'http://169.254.170.2/v3/82f8f911-c33c-4569-bfad-fded9bc044e1', 'DMLC_INTERFACE': 'eth0', 'ECS_CONTAINER_METADATA_URI_V4': 'http://169.254.170.2/v4/82f8f911-c33c-4569-bfad-fded9bc044e1', 'SAGEMAKER_HTTP_PORT': '8080', 'SAGEMAKER_DATA_PATH': '/opt/ml', 'DMLC_ROLE': 'scheduler', 'DMLC_PS_ROOT_URI': '10.0.187.147', 'DMLC_PS_ROOT_PORT': '9000', 'DMLC_NUM_SERVER': '1', 'DMLC_NUM_WORKER': '1'}\u001b[0m\n",
      "\u001b[34m[05/08/2021 06:29:19 INFO 140507616921408] Launching parameter server for role server\u001b[0m\n",
      "\u001b[34m[05/08/2021 06:29:19 INFO 140507616921408] {'ENVROOT': '/opt/amazon', 'PROTOCOL_BUFFERS_PYTHON_IMPLEMENTATION': 'cpp', 'HOSTNAME': 'ip-10-0-187-147.ec2.internal', 'TRAINING_JOB_NAME': 'knn-2021-05-08-06-25-25-802', 'NVIDIA_REQUIRE_CUDA': 'cuda>=9.0', 'TRAINING_JOB_ARN': 'arn:aws:sagemaker:us-east-1:305262579855:training-job/knn-2021-05-08-06-25-25-802', 'AWS_CONTAINER_CREDENTIALS_RELATIVE_URI': '/v2/credentials/3f1a06c9-2ab4-4877-9567-61746fd06f41', 'CANONICAL_ENVROOT': '/opt/amazon', 'PYTHONUNBUFFERED': 'TRUE', 'NVIDIA_VISIBLE_DEVICES': 'void', 'LD_LIBRARY_PATH': '/opt/amazon/lib/python3.7/site-packages/cv2/../../../../lib:/usr/local/nvidia/lib64:/opt/amazon/lib', 'NVIDIA_DRIVER_CAPABILITIES': 'compute,utility', 'AWS_EXECUTION_ENV': 'AWS_ECS_EC2', 'PATH': '/opt/amazon/bin:/usr/local/nvidia/bin:/usr/local/sbin:/usr/local/bin:/usr/sbin:/usr/bin:/sbin:/bin:/opt/amazon/bin:/opt/amazon/bin', 'PWD': '/', 'LANG': 'en_US.utf8', 'SAGEMAKER_METRICS_DIRECTORY': '/opt/ml/output/metrics/sagemaker', 'AWS_REGION': 'us-east-1', 'HOME': '/root', 'SHLVL': '1', 'PROTOCOL_BUFFERS_PYTHON_IMPLEMENTATION_VERSION': '2', 'OMP_NUM_THREADS': '2', 'ECS_CONTAINER_METADATA_URI': 'http://169.254.170.2/v3/82f8f911-c33c-4569-bfad-fded9bc044e1', 'DMLC_INTERFACE': 'eth0', 'ECS_CONTAINER_METADATA_URI_V4': 'http://169.254.170.2/v4/82f8f911-c33c-4569-bfad-fded9bc044e1', 'SAGEMAKER_HTTP_PORT': '8080', 'SAGEMAKER_DATA_PATH': '/opt/ml'}\u001b[0m\n",
      "\u001b[34m[05/08/2021 06:29:19 INFO 140507616921408] envs={'ENVROOT': '/opt/amazon', 'PROTOCOL_BUFFERS_PYTHON_IMPLEMENTATION': 'cpp', 'HOSTNAME': 'ip-10-0-187-147.ec2.internal', 'TRAINING_JOB_NAME': 'knn-2021-05-08-06-25-25-802', 'NVIDIA_REQUIRE_CUDA': 'cuda>=9.0', 'TRAINING_JOB_ARN': 'arn:aws:sagemaker:us-east-1:305262579855:training-job/knn-2021-05-08-06-25-25-802', 'AWS_CONTAINER_CREDENTIALS_RELATIVE_URI': '/v2/credentials/3f1a06c9-2ab4-4877-9567-61746fd06f41', 'CANONICAL_ENVROOT': '/opt/amazon', 'PYTHONUNBUFFERED': 'TRUE', 'NVIDIA_VISIBLE_DEVICES': 'void', 'LD_LIBRARY_PATH': '/opt/amazon/lib/python3.7/site-packages/cv2/../../../../lib:/usr/local/nvidia/lib64:/opt/amazon/lib', 'NVIDIA_DRIVER_CAPABILITIES': 'compute,utility', 'AWS_EXECUTION_ENV': 'AWS_ECS_EC2', 'PATH': '/opt/amazon/bin:/usr/local/nvidia/bin:/usr/local/sbin:/usr/local/bin:/usr/sbin:/usr/bin:/sbin:/bin:/opt/amazon/bin:/opt/amazon/bin', 'PWD': '/', 'LANG': 'en_US.utf8', 'SAGEMAKER_METRICS_DIRECTORY': '/opt/ml/output/metrics/sagemaker', 'AWS_REGION': 'us-east-1', 'HOME': '/root', 'SHLVL': '1', 'PROTOCOL_BUFFERS_PYTHON_IMPLEMENTATION_VERSION': '2', 'OMP_NUM_THREADS': '2', 'ECS_CONTAINER_METADATA_URI': 'http://169.254.170.2/v3/82f8f911-c33c-4569-bfad-fded9bc044e1', 'DMLC_INTERFACE': 'eth0', 'ECS_CONTAINER_METADATA_URI_V4': 'http://169.254.170.2/v4/82f8f911-c33c-4569-bfad-fded9bc044e1', 'SAGEMAKER_HTTP_PORT': '8080', 'SAGEMAKER_DATA_PATH': '/opt/ml', 'DMLC_ROLE': 'server', 'DMLC_PS_ROOT_URI': '10.0.187.147', 'DMLC_PS_ROOT_PORT': '9000', 'DMLC_NUM_SERVER': '1', 'DMLC_NUM_WORKER': '1'}\u001b[0m\n",
      "\u001b[34m[05/08/2021 06:29:19 INFO 140507616921408] Environment: {'ENVROOT': '/opt/amazon', 'PROTOCOL_BUFFERS_PYTHON_IMPLEMENTATION': 'cpp', 'HOSTNAME': 'ip-10-0-187-147.ec2.internal', 'TRAINING_JOB_NAME': 'knn-2021-05-08-06-25-25-802', 'NVIDIA_REQUIRE_CUDA': 'cuda>=9.0', 'TRAINING_JOB_ARN': 'arn:aws:sagemaker:us-east-1:305262579855:training-job/knn-2021-05-08-06-25-25-802', 'AWS_CONTAINER_CREDENTIALS_RELATIVE_URI': '/v2/credentials/3f1a06c9-2ab4-4877-9567-61746fd06f41', 'CANONICAL_ENVROOT': '/opt/amazon', 'PYTHONUNBUFFERED': 'TRUE', 'NVIDIA_VISIBLE_DEVICES': 'void', 'LD_LIBRARY_PATH': '/opt/amazon/lib/python3.7/site-packages/cv2/../../../../lib:/usr/local/nvidia/lib64:/opt/amazon/lib', 'NVIDIA_DRIVER_CAPABILITIES': 'compute,utility', 'AWS_EXECUTION_ENV': 'AWS_ECS_EC2', 'PATH': '/opt/amazon/bin:/usr/local/nvidia/bin:/usr/local/sbin:/usr/local/bin:/usr/sbin:/usr/bin:/sbin:/bin:/opt/amazon/bin:/opt/amazon/bin', 'PWD': '/', 'LANG': 'en_US.utf8', 'SAGEMAKER_METRICS_DIRECTORY': '/opt/ml/output/metrics/sagemaker', 'AWS_REGION': 'us-east-1', 'HOME': '/root', 'SHLVL': '1', 'PROTOCOL_BUFFERS_PYTHON_IMPLEMENTATION_VERSION': '2', 'OMP_NUM_THREADS': '2', 'ECS_CONTAINER_METADATA_URI': 'http://169.254.170.2/v3/82f8f911-c33c-4569-bfad-fded9bc044e1', 'DMLC_INTERFACE': 'eth0', 'ECS_CONTAINER_METADATA_URI_V4': 'http://169.254.170.2/v4/82f8f911-c33c-4569-bfad-fded9bc044e1', 'SAGEMAKER_HTTP_PORT': '8080', 'SAGEMAKER_DATA_PATH': '/opt/ml', 'DMLC_ROLE': 'worker', 'DMLC_PS_ROOT_URI': '10.0.187.147', 'DMLC_PS_ROOT_PORT': '9000', 'DMLC_NUM_SERVER': '1', 'DMLC_NUM_WORKER': '1'}\u001b[0m\n",
      "\u001b[34mProcess 49 is a shell:scheduler.\u001b[0m\n",
      "\u001b[34mProcess 58 is a shell:server.\u001b[0m\n",
      "\u001b[34mProcess 1 is a worker.\u001b[0m\n",
      "\u001b[34m[05/08/2021 06:29:19 INFO 140507616921408] Using default worker.\u001b[0m\n",
      "\u001b[34m[05/08/2021 06:29:20 INFO 140507616921408] Checkpoint loading and saving are disabled.\u001b[0m\n",
      "\u001b[34m[05/08/2021 06:29:20 INFO 140507616921408] nvidia-smi: took 0.031 seconds to run.\u001b[0m\n",
      "\u001b[34m[05/08/2021 06:29:20 INFO 140507616921408] nvidia-smi identified 0 GPUs.\u001b[0m\n",
      "\u001b[34m[05/08/2021 06:29:20 INFO 140507616921408] Create Store: dist_async\u001b[0m\n",
      "\u001b[34m[06:29:20] ../src/base.cc:47: Please install cuda driver for GPU use.  No cuda driver detected.\u001b[0m\n",
      "\u001b[34m[06:29:21] ../src/base.cc:47: Please install cuda driver for GPU use.  No cuda driver detected.\u001b[0m\n",
      "\u001b[34m[06:29:21] ../src/base.cc:47: Please install cuda driver for GPU use.  No cuda driver detected.\u001b[0m\n",
      "\u001b[34m[05/08/2021 06:29:21 ERROR 140507616921408] nvidia-smi: failed to run (127): b'/bin/sh: nvidia-smi: command not found'/\u001b[0m\n",
      "\u001b[34m[05/08/2021 06:29:21 WARNING 140507616921408] Could not determine free memory in MB for GPU device with ID (0).\u001b[0m\n",
      "\u001b[34m[05/08/2021 06:29:21 INFO 140507616921408] Using per-worker sample size = 10 (Available virtual memory = 14693351424 bytes, GPU free memory = 0 bytes, number of workers = 1). If an out-of-memory error occurs, choose a larger instance type, use dimension reduction, decrease sample_size, and/or decrease mini_batch_size.\u001b[0m\n",
      "\u001b[34m[05/08/2021 06:29:21 INFO 140507616921408] Starting cluster...\u001b[0m\n",
      "\u001b[34m[05/08/2021 06:29:21 INFO 140505703515904] concurrency model: async\u001b[0m\n",
      "\u001b[34m[05/08/2021 06:29:21 INFO 140507616921408] ...Cluster started\u001b[0m\n",
      "\u001b[34m[05/08/2021 06:29:21 INFO 140505703515904] masquerade (NAT) address: None\u001b[0m\n",
      "\u001b[34m[05/08/2021 06:29:21 INFO 140507616921408] Verifying connection to 0 peer cluster(s)...\u001b[0m\n",
      "\u001b[34m[05/08/2021 06:29:21 INFO 140505703515904] passive ports: None\u001b[0m\n",
      "\u001b[34m[05/08/2021 06:29:21 INFO 140507616921408] ...Verified connection to 0 peer cluster(s)\u001b[0m\n",
      "\u001b[34m#metrics {\"StartTime\": 1620455361.259747, \"EndTime\": 1620455361.2597878, \"Dimensions\": {\"Algorithm\": \"AWS/KNN\", \"Host\": \"algo-1\", \"Operation\": \"training\", \"Meta\": \"init_train_data_iter\"}, \"Metrics\": {\"Total Records Seen\": {\"sum\": 0.0, \"count\": 1, \"min\": 0, \"max\": 0}, \"Total Batches Seen\": {\"sum\": 0.0, \"count\": 1, \"min\": 0, \"max\": 0}, \"Max Records Seen Between Resets\": {\"sum\": 0.0, \"count\": 1, \"min\": 0, \"max\": 0}, \"Max Batches Seen Between Resets\": {\"sum\": 0.0, \"count\": 1, \"min\": 0, \"max\": 0}, \"Reset Count\": {\"sum\": 0.0, \"count\": 1, \"min\": 0, \"max\": 0}, \"Number of Records Since Last Reset\": {\"sum\": 0.0, \"count\": 1, \"min\": 0, \"max\": 0}, \"Number of Batches Since Last Reset\": {\"sum\": 0.0, \"count\": 1, \"min\": 0, \"max\": 0}}}\u001b[0m\n",
      "\u001b[34m[05/08/2021 06:29:21 INFO 140505703515904] >>> starting FTP server on 0.0.0.0:8999, pid=1 <<<\n",
      "\u001b[0m\n",
      "\u001b[34m[2021-05-08 06:29:21.260] [tensorio] [info] epoch_stats={\"data_pipeline\": \"/opt/ml/input/data/train\", \"epoch\": 0, \"duration\": 960, \"num_examples\": 1, \"num_bytes\": 672}\u001b[0m\n",
      "\u001b[34m[2021-05-08 06:29:21.402] [tensorio] [info] epoch_stats={\"data_pipeline\": \"/opt/ml/input/data/train\", \"epoch\": 1, \"duration\": 142, \"num_examples\": 1, \"num_bytes\": 672}\u001b[0m\n",
      "\u001b[34m[05/08/2021 06:29:21 INFO 140507616921408] #progress_metric: host=algo-1, completed 100.0 % of epochs\u001b[0m\n",
      "\u001b[34m#metrics {\"StartTime\": 1620455361.2602878, \"EndTime\": 1620455361.4135227, \"Dimensions\": {\"Algorithm\": \"AWS/KNN\", \"Host\": \"algo-1\", \"Operation\": \"training\", \"epoch\": 0, \"Meta\": \"training_data_iter\"}, \"Metrics\": {\"Total Records Seen\": {\"sum\": 14.0, \"count\": 1, \"min\": 14, \"max\": 14}, \"Total Batches Seen\": {\"sum\": 1.0, \"count\": 1, \"min\": 1, \"max\": 1}, \"Max Records Seen Between Resets\": {\"sum\": 14.0, \"count\": 1, \"min\": 14, \"max\": 14}, \"Max Batches Seen Between Resets\": {\"sum\": 1.0, \"count\": 1, \"min\": 1, \"max\": 1}, \"Reset Count\": {\"sum\": 1.0, \"count\": 1, \"min\": 1, \"max\": 1}, \"Number of Records Since Last Reset\": {\"sum\": 14.0, \"count\": 1, \"min\": 14, \"max\": 14}, \"Number of Batches Since Last Reset\": {\"sum\": 1.0, \"count\": 1, \"min\": 1, \"max\": 1}}}\n",
      "\u001b[0m\n",
      "\u001b[34m[05/08/2021 06:29:21 INFO 140507616921408] #throughput_metric: host=algo-1, train throughput=91.27860371703756 records/second\u001b[0m\n",
      "\u001b[34m[05/08/2021 06:29:21 INFO 140507616921408] Getting reservoir sample from algo-1...\u001b[0m\n",
      "\u001b[34m[05/08/2021 06:29:21 INFO 140505703515904] 10.0.187.147:47740-[] FTP session opened (connect)\u001b[0m\n",
      "\u001b[34m[05/08/2021 06:29:21 INFO 140505703515904] 10.0.187.147:47740-[anonymous] USER 'anonymous' logged in.\u001b[0m\n",
      "\u001b[34m[05/08/2021 06:29:21 INFO 140505703515904] 10.0.187.147:47740-[anonymous] RETR /opt/rs completed=1 bytes=248 seconds=0.0\u001b[0m\n",
      "\u001b[34m[05/08/2021 06:29:21 INFO 140505703515904] 10.0.187.147:47740-[anonymous] FTP session closed (disconnect).\u001b[0m\n",
      "\u001b[34m[05/08/2021 06:29:21 INFO 140507616921408] ...Got reservoir sample from algo-1: data=(10, 1), labels=(10,), NaNs=0\u001b[0m\n",
      "\u001b[34m[05/08/2021 06:29:21 INFO 140507616921408] Training index...\u001b[0m\n",
      "\u001b[34m[05/08/2021 06:29:21 INFO 140507616921408] ...Finished training index in 0 second(s)\u001b[0m\n",
      "\u001b[34m[05/08/2021 06:29:21 INFO 140507616921408] Adding data to index...\u001b[0m\n",
      "\u001b[34m[05/08/2021 06:29:21 INFO 140507616921408] ...Finished adding data to index in 0 second(s)\u001b[0m\n",
      "\u001b[34m#metrics {\"StartTime\": 1620455360.2991507, \"EndTime\": 1620455361.4414444, \"Dimensions\": {\"Algorithm\": \"AWS/KNN\", \"Host\": \"algo-1\", \"Operation\": \"training\"}, \"Metrics\": {\"initialize.time\": {\"sum\": 959.5053195953369, \"count\": 1, \"min\": 959.5053195953369, \"max\": 959.5053195953369}, \"epochs\": {\"sum\": 1.0, \"count\": 1, \"min\": 1, \"max\": 1}, \"update.time\": {\"sum\": 152.91285514831543, \"count\": 1, \"min\": 152.91285514831543, \"max\": 152.91285514831543}, \"finalize.time\": {\"sum\": 22.58467674255371, \"count\": 1, \"min\": 22.58467674255371, \"max\": 22.58467674255371}, \"model.serialize.time\": {\"sum\": 4.940509796142578, \"count\": 1, \"min\": 4.940509796142578, \"max\": 4.940509796142578}}}\n",
      "\u001b[0m\n",
      "\u001b[34m[05/08/2021 06:29:21 INFO 140507616921408] Test data is not provided.\u001b[0m\n",
      "\u001b[34m[05/08/2021 06:29:21 INFO 140505703515904] >>> shutting down FTP server, 0 socket(s), pid=1 <<<\u001b[0m\n",
      "\u001b[34m#metrics {\"StartTime\": 1620455361.4415133, \"EndTime\": 1620455361.5187702, \"Dimensions\": {\"Algorithm\": \"AWS/KNN\", \"Host\": \"algo-1\", \"Operation\": \"training\"}, \"Metrics\": {\"setuptime\": {\"sum\": 15.897274017333984, \"count\": 1, \"min\": 15.897274017333984, \"max\": 15.897274017333984}, \"totaltime\": {\"sum\": 1675.1914024353027, \"count\": 1, \"min\": 1675.1914024353027, \"max\": 1675.1914024353027}}}\n",
      "\u001b[0m\n",
      "\n",
      "2021-05-08 06:29:49 Completed - Training job completed\n",
      "Training seconds: 116\n",
      "Billable seconds: 116\n"
     ]
    }
   ],
   "source": [
    "estimator.fit(record_set)"
   ]
  },
  {
   "cell_type": "code",
   "execution_count": 14,
   "id": "3aa30fd4",
   "metadata": {},
   "outputs": [
    {
     "name": "stderr",
     "output_type": "stream",
     "text": [
      "Defaulting to the only supported framework/algorithm version: 1. Ignoring framework/algorithm version: 1.\n"
     ]
    },
    {
     "name": "stdout",
     "output_type": "stream",
     "text": [
      "---------------------------!"
     ]
    }
   ],
   "source": [
    "predictor = estimator.deploy(initial_instance_count=1,\n",
    "                             instance_type='ml.t2.medium')"
   ]
  },
  {
   "cell_type": "code",
   "execution_count": 15,
   "id": "a7b31e9d",
   "metadata": {},
   "outputs": [
    {
     "data": {
      "text/plain": [
       "[label {\n",
       "   key: \"predicted_label\"\n",
       "   value {\n",
       "     float64_tensor {\n",
       "       values: 2666.6666666666665\n",
       "     }\n",
       "   }\n",
       " },\n",
       " label {\n",
       "   key: \"predicted_label\"\n",
       "   value {\n",
       "     float64_tensor {\n",
       "       values: 2000.0\n",
       "     }\n",
       "   }\n",
       " },\n",
       " label {\n",
       "   key: \"predicted_label\"\n",
       "   value {\n",
       "     float64_tensor {\n",
       "       values: 2666.6666666666665\n",
       "     }\n",
       "   }\n",
       " },\n",
       " label {\n",
       "   key: \"predicted_label\"\n",
       "   value {\n",
       "     float64_tensor {\n",
       "       values: 4633.333333333333\n",
       "     }\n",
       "   }\n",
       " },\n",
       " label {\n",
       "   key: \"predicted_label\"\n",
       "   value {\n",
       "     float64_tensor {\n",
       "       values: 5500.0\n",
       "     }\n",
       "   }\n",
       " },\n",
       " label {\n",
       "   key: \"predicted_label\"\n",
       "   value {\n",
       "     float64_tensor {\n",
       "       values: 2000.0\n",
       "     }\n",
       "   }\n",
       " }]"
      ]
     },
     "execution_count": 15,
     "metadata": {},
     "output_type": "execute_result"
    }
   ],
   "source": [
    "payload = X_test.reshape(-1,1).astype('float32')\n",
    "predictor.predict(payload)"
   ]
  },
  {
   "cell_type": "code",
   "execution_count": 16,
   "id": "df43884c",
   "metadata": {},
   "outputs": [],
   "source": [
    "predictor.delete_endpoint()"
   ]
  },
  {
   "cell_type": "markdown",
   "id": "35fca60b",
   "metadata": {},
   "source": [
    "### Batch Transform"
   ]
  },
  {
   "cell_type": "code",
   "execution_count": 17,
   "id": "0b6d379d",
   "metadata": {},
   "outputs": [],
   "source": [
    "!mkdir -p tmp"
   ]
  },
  {
   "cell_type": "code",
   "execution_count": 18,
   "id": "22f9a4be",
   "metadata": {},
   "outputs": [],
   "source": [
    "import pandas as pd \n",
    "\n",
    "pd.DataFrame(X_test.reshape(-1,1)).to_csv(\"tmp/003.test.csv\", header=False, index=False)"
   ]
  },
  {
   "cell_type": "code",
   "execution_count": 19,
   "id": "398c2d07",
   "metadata": {},
   "outputs": [
    {
     "name": "stdout",
     "output_type": "stream",
     "text": [
      "5\r\n",
      "4\r\n",
      "6\r\n",
      "12\r\n",
      "16\r\n",
      "2\r\n"
     ]
    }
   ],
   "source": [
    "!cat tmp/003.test.csv"
   ]
  },
  {
   "cell_type": "code",
   "execution_count": 20,
   "id": "0bca184c",
   "metadata": {},
   "outputs": [
    {
     "data": {
      "text/plain": [
       "'s3://sagemaker-us-east-1-305262579855/data/002.test.csv'"
      ]
     },
     "execution_count": 20,
     "metadata": {},
     "output_type": "execute_result"
    }
   ],
   "source": [
    "s3_path = session.upload_data(\"tmp/003.test.csv\")\n",
    "s3_path"
   ]
  },
  {
   "cell_type": "code",
   "execution_count": 21,
   "id": "3c293fd4",
   "metadata": {},
   "outputs": [
    {
     "name": "stderr",
     "output_type": "stream",
     "text": [
      "Defaulting to the only supported framework/algorithm version: 1. Ignoring framework/algorithm version: 1.\n"
     ]
    }
   ],
   "source": [
    "transformer = estimator.transformer(\n",
    "    instance_count=1,\n",
    "    instance_type='ml.m5.xlarge',\n",
    "    strategy='MultiRecord',\n",
    "    assemble_with='Line')"
   ]
  },
  {
   "cell_type": "code",
   "execution_count": 22,
   "id": "27edcca5",
   "metadata": {},
   "outputs": [
    {
     "name": "stdout",
     "output_type": "stream",
     "text": [
      "....................................\n",
      "\u001b[34mDocker entrypoint called with argument(s): serve\u001b[0m\n",
      "\u001b[34mRunning default environment configuration script\u001b[0m\n",
      "\u001b[34m[05/08/2021 06:49:37 INFO 140197687568192] Memory profiler is not enabled by the environment variable ENABLE_PROFILER.\u001b[0m\n",
      "\u001b[34m[05/08/2021 06:49:41 WARNING 140197687568192] Loggers have already been setup.\u001b[0m\n",
      "\u001b[34m[05/08/2021 06:49:41 INFO 140197687568192] loaded entry point class algorithm.serve.server_config:config_api\u001b[0m\n",
      "\u001b[34m[05/08/2021 06:49:41 INFO 140197687568192] loading entry points\u001b[0m\n",
      "\u001b[34m[05/08/2021 06:49:41 INFO 140197687568192] loaded request iterator application/json\u001b[0m\n",
      "\u001b[34m[05/08/2021 06:49:41 INFO 140197687568192] loaded request iterator application/jsonlines\u001b[0m\n",
      "\u001b[34m[05/08/2021 06:49:41 INFO 140197687568192] loaded request iterator application/x-recordio-protobuf\u001b[0m\n",
      "\u001b[34m[05/08/2021 06:49:41 INFO 140197687568192] loaded request iterator text/csv\u001b[0m\n",
      "\u001b[34m[05/08/2021 06:49:41 INFO 140197687568192] loaded response encoder application/json\u001b[0m\n",
      "\u001b[34m[05/08/2021 06:49:41 INFO 140197687568192] loaded response encoder application/jsonlines\u001b[0m\n",
      "\u001b[34m[05/08/2021 06:49:41 INFO 140197687568192] loaded response encoder application/x-recordio-protobuf\u001b[0m\n",
      "\u001b[34m[05/08/2021 06:49:42 INFO 140197687568192] loaded entry point class algorithm:model\u001b[0m\n",
      "\u001b[34m[05/08/2021 06:49:42 INFO 140197687568192] Number of server workers: 1\u001b[0m\n",
      "\u001b[34m[2021-05-08 06:49:42 +0000] [1] [INFO] Starting gunicorn 20.0.4\u001b[0m\n",
      "\u001b[34m[2021-05-08 06:49:42 +0000] [1] [INFO] Listening at: http://0.0.0.0:8080 (1)\u001b[0m\n",
      "\u001b[34m[2021-05-08 06:49:42 +0000] [1] [INFO] Using worker: sync\u001b[0m\n",
      "\u001b[34m[2021-05-08 06:49:42 +0000] [58] [INFO] Booting worker with pid: 58\u001b[0m\n",
      "\u001b[34m[05/08/2021 06:49:42 INFO 140197687568192] loading model...\u001b[0m\n",
      "\u001b[34m[05/08/2021 06:49:42 INFO 140197687568192] nvidia-smi: took 0.034 seconds to run.\u001b[0m\n",
      "\u001b[34m[05/08/2021 06:49:42 INFO 140197687568192] nvidia-smi identified 0 GPUs.\u001b[0m\n",
      "\u001b[34m[05/08/2021 06:49:42 INFO 140197687568192] ...model loaded.\u001b[0m\n",
      "\u001b[34m#metrics {\"StartTime\": 1620456582.173228, \"EndTime\": 1620456582.1957197, \"Dimensions\": {\"Algorithm\": \"KNNModel\", \"Host\": \"UNKNOWN\", \"Operation\": \"scoring\"}, \"Metrics\": {\"execution_parameters.count\": {\"sum\": 1.0, \"count\": 1, \"min\": 1, \"max\": 1}}}\n",
      "\u001b[0m\n",
      "\u001b[34m[05/08/2021 06:49:42 INFO 140197687568192] Searching index...\u001b[0m\n",
      "\u001b[34m[05/08/2021 06:49:42 INFO 140197687568192] ...Done searching index in 0 second(s)\u001b[0m\n",
      "\u001b[34m#metrics {\"StartTime\": 1620456582.1958272, \"EndTime\": 1620456582.2433274, \"Dimensions\": {\"Algorithm\": \"KNNModel\", \"Host\": \"UNKNOWN\", \"Operation\": \"scoring\"}, \"Metrics\": {\"model.evaluate.time\": {\"sum\": 18.07713508605957, \"count\": 1, \"min\": 18.07713508605957, \"max\": 18.07713508605957}, \"invocations.count\": {\"sum\": 1.0, \"count\": 1, \"min\": 1, \"max\": 1}}}\n",
      "\u001b[0m\n",
      "\u001b[32m2021-05-08T06:49:42.200:[sagemaker logs]: MaxConcurrentTransforms=1, MaxPayloadInMB=6, BatchStrategy=MULTI_RECORD\u001b[0m\n"
     ]
    }
   ],
   "source": [
    "transformer.transform(s3_path, content_type='text/csv', split_type='Line')"
   ]
  },
  {
   "cell_type": "code",
   "execution_count": 23,
   "id": "00248302",
   "metadata": {},
   "outputs": [
    {
     "name": "stdout",
     "output_type": "stream",
     "text": [
      "\u001b[34mDocker entrypoint called with argument(s): serve\u001b[0m\n",
      "\u001b[34mRunning default environment configuration script\u001b[0m\n",
      "\u001b[34m[05/08/2021 06:49:37 INFO 140197687568192] Memory profiler is not enabled by the environment variable ENABLE_PROFILER.\u001b[0m\n",
      "\u001b[35mDocker entrypoint called with argument(s): serve\u001b[0m\n",
      "\u001b[35mRunning default environment configuration script\u001b[0m\n",
      "\u001b[35m[05/08/2021 06:49:37 INFO 140197687568192] Memory profiler is not enabled by the environment variable ENABLE_PROFILER.\u001b[0m\n",
      "\u001b[34m[05/08/2021 06:49:41 WARNING 140197687568192] Loggers have already been setup.\u001b[0m\n",
      "\u001b[34m[05/08/2021 06:49:41 INFO 140197687568192] loaded entry point class algorithm.serve.server_config:config_api\u001b[0m\n",
      "\u001b[34m[05/08/2021 06:49:41 INFO 140197687568192] loading entry points\u001b[0m\n",
      "\u001b[34m[05/08/2021 06:49:41 INFO 140197687568192] loaded request iterator application/json\u001b[0m\n",
      "\u001b[34m[05/08/2021 06:49:41 INFO 140197687568192] loaded request iterator application/jsonlines\u001b[0m\n",
      "\u001b[34m[05/08/2021 06:49:41 INFO 140197687568192] loaded request iterator application/x-recordio-protobuf\u001b[0m\n",
      "\u001b[34m[05/08/2021 06:49:41 INFO 140197687568192] loaded request iterator text/csv\u001b[0m\n",
      "\u001b[34m[05/08/2021 06:49:41 INFO 140197687568192] loaded response encoder application/json\u001b[0m\n",
      "\u001b[34m[05/08/2021 06:49:41 INFO 140197687568192] loaded response encoder application/jsonlines\u001b[0m\n",
      "\u001b[34m[05/08/2021 06:49:41 INFO 140197687568192] loaded response encoder application/x-recordio-protobuf\u001b[0m\n",
      "\u001b[34m[05/08/2021 06:49:42 INFO 140197687568192] loaded entry point class algorithm:model\u001b[0m\n",
      "\u001b[34m[05/08/2021 06:49:42 INFO 140197687568192] Number of server workers: 1\u001b[0m\n",
      "\u001b[34m[2021-05-08 06:49:42 +0000] [1] [INFO] Starting gunicorn 20.0.4\u001b[0m\n",
      "\u001b[34m[2021-05-08 06:49:42 +0000] [1] [INFO] Listening at: http://0.0.0.0:8080 (1)\u001b[0m\n",
      "\u001b[34m[2021-05-08 06:49:42 +0000] [1] [INFO] Using worker: sync\u001b[0m\n",
      "\u001b[34m[2021-05-08 06:49:42 +0000] [58] [INFO] Booting worker with pid: 58\u001b[0m\n",
      "\u001b[34m[05/08/2021 06:49:42 INFO 140197687568192] loading model...\u001b[0m\n",
      "\u001b[34m[05/08/2021 06:49:42 INFO 140197687568192] nvidia-smi: took 0.034 seconds to run.\u001b[0m\n",
      "\u001b[34m[05/08/2021 06:49:42 INFO 140197687568192] nvidia-smi identified 0 GPUs.\u001b[0m\n",
      "\u001b[34m[05/08/2021 06:49:42 INFO 140197687568192] ...model loaded.\u001b[0m\n",
      "\u001b[34m#metrics {\"StartTime\": 1620456582.173228, \"EndTime\": 1620456582.1957197, \"Dimensions\": {\"Algorithm\": \"KNNModel\", \"Host\": \"UNKNOWN\", \"Operation\": \"scoring\"}, \"Metrics\": {\"execution_parameters.count\": {\"sum\": 1.0, \"count\": 1, \"min\": 1, \"max\": 1}}}\n",
      "\u001b[0m\n",
      "\u001b[35m[05/08/2021 06:49:41 WARNING 140197687568192] Loggers have already been setup.\u001b[0m\n",
      "\u001b[35m[05/08/2021 06:49:41 INFO 140197687568192] loaded entry point class algorithm.serve.server_config:config_api\u001b[0m\n",
      "\u001b[35m[05/08/2021 06:49:41 INFO 140197687568192] loading entry points\u001b[0m\n",
      "\u001b[35m[05/08/2021 06:49:41 INFO 140197687568192] loaded request iterator application/json\u001b[0m\n",
      "\u001b[35m[05/08/2021 06:49:41 INFO 140197687568192] loaded request iterator application/jsonlines\u001b[0m\n",
      "\u001b[35m[05/08/2021 06:49:41 INFO 140197687568192] loaded request iterator application/x-recordio-protobuf\u001b[0m\n",
      "\u001b[35m[05/08/2021 06:49:41 INFO 140197687568192] loaded request iterator text/csv\u001b[0m\n",
      "\u001b[35m[05/08/2021 06:49:41 INFO 140197687568192] loaded response encoder application/json\u001b[0m\n",
      "\u001b[35m[05/08/2021 06:49:41 INFO 140197687568192] loaded response encoder application/jsonlines\u001b[0m\n",
      "\u001b[35m[05/08/2021 06:49:41 INFO 140197687568192] loaded response encoder application/x-recordio-protobuf\u001b[0m\n",
      "\u001b[35m[05/08/2021 06:49:42 INFO 140197687568192] loaded entry point class algorithm:model\u001b[0m\n",
      "\u001b[35m[05/08/2021 06:49:42 INFO 140197687568192] Number of server workers: 1\u001b[0m\n",
      "\u001b[35m[2021-05-08 06:49:42 +0000] [1] [INFO] Starting gunicorn 20.0.4\u001b[0m\n",
      "\u001b[35m[2021-05-08 06:49:42 +0000] [1] [INFO] Listening at: http://0.0.0.0:8080 (1)\u001b[0m\n",
      "\u001b[35m[2021-05-08 06:49:42 +0000] [1] [INFO] Using worker: sync\u001b[0m\n",
      "\u001b[35m[2021-05-08 06:49:42 +0000] [58] [INFO] Booting worker with pid: 58\u001b[0m\n",
      "\u001b[35m[05/08/2021 06:49:42 INFO 140197687568192] loading model...\u001b[0m\n",
      "\u001b[35m[05/08/2021 06:49:42 INFO 140197687568192] nvidia-smi: took 0.034 seconds to run.\u001b[0m\n",
      "\u001b[35m[05/08/2021 06:49:42 INFO 140197687568192] nvidia-smi identified 0 GPUs.\u001b[0m\n",
      "\u001b[35m[05/08/2021 06:49:42 INFO 140197687568192] ...model loaded.\u001b[0m\n",
      "\u001b[35m#metrics {\"StartTime\": 1620456582.173228, \"EndTime\": 1620456582.1957197, \"Dimensions\": {\"Algorithm\": \"KNNModel\", \"Host\": \"UNKNOWN\", \"Operation\": \"scoring\"}, \"Metrics\": {\"execution_parameters.count\": {\"sum\": 1.0, \"count\": 1, \"min\": 1, \"max\": 1}}}\n",
      "\u001b[0m\n",
      "\u001b[34m[05/08/2021 06:49:42 INFO 140197687568192] Searching index...\u001b[0m\n",
      "\u001b[34m[05/08/2021 06:49:42 INFO 140197687568192] ...Done searching index in 0 second(s)\u001b[0m\n",
      "\u001b[34m#metrics {\"StartTime\": 1620456582.1958272, \"EndTime\": 1620456582.2433274, \"Dimensions\": {\"Algorithm\": \"KNNModel\", \"Host\": \"UNKNOWN\", \"Operation\": \"scoring\"}, \"Metrics\": {\"model.evaluate.time\": {\"sum\": 18.07713508605957, \"count\": 1, \"min\": 18.07713508605957, \"max\": 18.07713508605957}, \"invocations.count\": {\"sum\": 1.0, \"count\": 1, \"min\": 1, \"max\": 1}}}\n",
      "\u001b[0m\n",
      "\u001b[35m[05/08/2021 06:49:42 INFO 140197687568192] Searching index...\u001b[0m\n",
      "\u001b[35m[05/08/2021 06:49:42 INFO 140197687568192] ...Done searching index in 0 second(s)\u001b[0m\n",
      "\u001b[35m#metrics {\"StartTime\": 1620456582.1958272, \"EndTime\": 1620456582.2433274, \"Dimensions\": {\"Algorithm\": \"KNNModel\", \"Host\": \"UNKNOWN\", \"Operation\": \"scoring\"}, \"Metrics\": {\"model.evaluate.time\": {\"sum\": 18.07713508605957, \"count\": 1, \"min\": 18.07713508605957, \"max\": 18.07713508605957}, \"invocations.count\": {\"sum\": 1.0, \"count\": 1, \"min\": 1, \"max\": 1}}}\n",
      "\u001b[0m\n",
      "\u001b[32m2021-05-08T06:49:42.200:[sagemaker logs]: MaxConcurrentTransforms=1, MaxPayloadInMB=6, BatchStrategy=MULTI_RECORD\u001b[0m\n"
     ]
    }
   ],
   "source": [
    "transformer.wait()"
   ]
  },
  {
   "cell_type": "code",
   "execution_count": 24,
   "id": "c3954fc0",
   "metadata": {},
   "outputs": [
    {
     "data": {
      "text/plain": [
       "'s3://sagemaker-us-east-1-305262579855/knn-2021-05-08-06-43-43-933'"
      ]
     },
     "execution_count": 24,
     "metadata": {},
     "output_type": "execute_result"
    }
   ],
   "source": [
    "transformer.output_path"
   ]
  },
  {
   "cell_type": "code",
   "execution_count": 25,
   "id": "81907126",
   "metadata": {},
   "outputs": [
    {
     "name": "stdout",
     "output_type": "stream",
     "text": [
      "download: s3://sagemaker-us-east-1-305262579855/knn-2021-05-08-06-43-43-933/002.test.csv.out to tmp/002.test.csv.out\r\n"
     ]
    }
   ],
   "source": [
    "!aws s3 cp {transformer.output_path}/003.test.csv.out tmp/003.test.csv.out"
   ]
  },
  {
   "cell_type": "code",
   "execution_count": 26,
   "id": "1664dd60",
   "metadata": {},
   "outputs": [
    {
     "name": "stdout",
     "output_type": "stream",
     "text": [
      "{\"predicted_label\":2666.666666666666515}\r\n",
      "{\"predicted_label\":2000.0}\r\n",
      "{\"predicted_label\":2666.666666666666515}\r\n",
      "{\"predicted_label\":4633.33333333333303}\r\n",
      "{\"predicted_label\":5500.0}\r\n",
      "{\"predicted_label\":2000.0}\r\n"
     ]
    }
   ],
   "source": [
    "cat tmp/003.test.csv.out"
   ]
  },
  {
   "cell_type": "code",
   "execution_count": null,
   "id": "cee1840b",
   "metadata": {},
   "outputs": [],
   "source": []
  }
 ],
 "metadata": {
  "kernelspec": {
   "display_name": "conda_python3",
   "language": "python",
   "name": "conda_python3"
  },
  "language_info": {
   "codemirror_mode": {
    "name": "ipython",
    "version": 3
   },
   "file_extension": ".py",
   "mimetype": "text/x-python",
   "name": "python",
   "nbconvert_exporter": "python",
   "pygments_lexer": "ipython3",
   "version": "3.6.13"
  }
 },
 "nbformat": 4,
 "nbformat_minor": 5
}
